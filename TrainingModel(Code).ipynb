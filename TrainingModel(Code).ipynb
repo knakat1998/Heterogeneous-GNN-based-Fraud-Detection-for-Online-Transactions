{
 "cells": [
  {
   "cell_type": "markdown",
   "metadata": {
    "id": "4714VKOKo8cK"
   },
   "source": [
    "# Modeling\n",
    "\n",
    "This notebook will guide you through the process of loading heterogeneous graphs and training models. The heterogeneous graph is based on Deep Graph Library (DGL) implementation, and the training process is based on PyTorch implementation.\n",
    "\n",
    "The CPU is recommended for training when the equipment allows it. If you need to use GPU, please install GPU-based DGL separately."
   ]
  },
  {
   "cell_type": "markdown",
   "metadata": {
    "id": "lsBPiu9io8cR"
   },
   "source": [
    "## Colab setting\n",
    "\n",
    "If you want to train in Colab, please run both cells first and mount to the corresponding path."
   ]
  },
  {
   "cell_type": "markdown",
   "metadata": {
    "colab": {
     "base_uri": "https://localhost:8080/"
    },
    "executionInfo": {
     "elapsed": 21466,
     "status": "ok",
     "timestamp": 1620840220547,
     "user": {
      "displayName": "Zekun Wang",
      "photoUrl": "https://lh3.googleusercontent.com/a-/AOh14Gh140SMb0c80XwwVdi_E7-Lh2XNkXKVWOakF5qL=s64",
      "userId": "05904147758498762863"
     },
     "user_tz": 300
    },
    "id": "0AICBHAJHa56",
    "outputId": "1d9c0d9a-9dea-42cd-aeea-fe211b1b6585"
   },
   "source": [
    "from google.colab import drive\n",
    "drive.mount('/content/drive')"
   ]
  },
  {
   "cell_type": "markdown",
   "metadata": {
    "colab": {
     "base_uri": "https://localhost:8080/"
    },
    "executionInfo": {
     "elapsed": 597,
     "status": "ok",
     "timestamp": 1620840221150,
     "user": {
      "displayName": "Zekun Wang",
      "photoUrl": "https://lh3.googleusercontent.com/a-/AOh14Gh140SMb0c80XwwVdi_E7-Lh2XNkXKVWOakF5qL=s64",
      "userId": "05904147758498762863"
     },
     "user_tz": 300
    },
    "id": "LtJfGQ6GHh88",
    "outputId": "35cda3a1-ec52-4f5d-f037-ae6266140b64"
   },
   "source": [
    "import os\n",
    "cur_path = \"/content/drive/MyDrive/graph-fraud-detection/\"\n",
    "os.chdir(cur_path)\n",
    "!pwd"
   ]
  },
  {
   "cell_type": "code",
   "execution_count": null,
   "metadata": {
    "colab": {
     "base_uri": "https://localhost:8080/"
    },
    "executionInfo": {
     "elapsed": 3527,
     "status": "ok",
     "timestamp": 1620840224088,
     "user": {
      "displayName": "Zekun Wang",
      "photoUrl": "https://lh3.googleusercontent.com/a-/AOh14Gh140SMb0c80XwwVdi_E7-Lh2XNkXKVWOakF5qL=s64",
      "userId": "05904147758498762863"
     },
     "user_tz": 300
    },
    "id": "aprSAaVaHiEX",
    "outputId": "443432ac-762b-4b86-fcef-937bf37e0fa8"
   },
   "outputs": [],
   "source": [
    "!pip install dgl\n",
    "#-cu101"
   ]
  },
  {
   "cell_type": "markdown",
   "metadata": {
    "id": "lSmqRg1eo8cT"
   },
   "source": [
    "## Training (Detailed)\n",
    "\n",
    "Besides the approach mentioned before, you can also use this detailed approach."
   ]
  },
  {
   "cell_type": "markdown",
   "metadata": {
    "id": "TZWNPZTPOJSb"
   },
   "source": [
    "### Prepare environment"
   ]
  },
  {
   "cell_type": "code",
   "execution_count": 1,
   "metadata": {
    "colab": {
     "base_uri": "https://localhost:8080/"
    },
    "executionInfo": {
     "elapsed": 9124,
     "status": "ok",
     "timestamp": 1620765396200,
     "user": {
      "displayName": "Zekun Wang",
      "photoUrl": "https://lh3.googleusercontent.com/a-/AOh14Gh140SMb0c80XwwVdi_E7-Lh2XNkXKVWOakF5qL=s64",
      "userId": "05904147758498762863"
     },
     "user_tz": 300
    },
    "id": "E6TREv-bfXKZ",
    "outputId": "27c66779-c91f-4b46-ac2a-9f5c29002c9b"
   },
   "outputs": [
    {
     "name": "stdout",
     "output_type": "stream",
     "text": [
      "DLG version: 1.0.1\n"
     ]
    }
   ],
   "source": [
    "import os\n",
    "import sys\n",
    "import glob\n",
    "\n",
    "os.environ['DGLBACKEND'] = 'pytorch'\n",
    "\n",
    "import torch as th\n",
    "import dgl\n",
    "import numpy as np\n",
    "\n",
    "from gnn.estimator_fns import *\n",
    "from gnn.graph_utils import *\n",
    "from gnn.data import *\n",
    "from gnn.utils import *\n",
    "from gnn.pytorch_model import *\n",
    "from train import *"
   ]
  },
  {
   "cell_type": "code",
   "execution_count": null,
   "metadata": {
    "id": "_9CmUjgaHXdj"
   },
   "outputs": [],
   "source": []
  },
  {
   "cell_type": "markdown",
   "metadata": {
    "id": "E881gvwobfSz"
   },
   "source": [
    "### Load data\n",
    "\n",
    "Recall the edges we defined before and the csv files we used to save them."
   ]
  },
  {
   "cell_type": "code",
   "execution_count": 2,
   "metadata": {
    "id": "BmqGrWm-HXdk"
   },
   "outputs": [],
   "source": [
    "file_list = glob.glob('./data/*edgelist.csv')\n",
    "\n",
    "edges = \",\".join(map(lambda x: x.split(\"/\")[-1], [file for file in file_list if \"relation\" in file]))"
   ]
  },
  {
   "cell_type": "markdown",
   "metadata": {
    "id": "cE2--V7AbfS0"
   },
   "source": [
    "To train the graph neural network, we need to define a few hyperparameters that determine properties such as the class of graph neural network models we will be using, the network architecture and the optimizer and optimization parameters.\n",
    "\n",
    "Here we're setting only a few of the hyperparameters, to see all the hyperparameters and their default values, see `gnn/estimator_fns.py`. The parameters set below are:\n",
    "\n",
    "- **nodes** is the name of the file that contains the node_ids of the target nodes and the node features.\n",
    "- **edges** is a regular expression that when expanded lists all the filenames for the edgelists\n",
    "- **labels** is the name of the file tha contains the target node_ids and their labels\n",
    "- **model** specify which graph neural network to use, this should be set to r-gcn\n",
    "\n",
    "The following hyperparameters can be tuned and adjusted to improve model performance\n",
    "\n",
    "- **batch-size** is the number nodes that are used to compute a single forward pass of the GNN\n",
    "- **embedding-size** is the size of the embedding dimension for non target nodes\n",
    "- **n-neighbors** is the number of neighbours to sample for each target node during graph sampling for mini-batch training\n",
    "- **n-layers** is the number of GNN layers in the model\n",
    "- **n-epochs** is the number of training epochs for the model training job\n",
    "- **optimizer** is the optimization algorithm used for gradient based parameter updates\n",
    "- **lr** is the learning rate for parameter updates"
   ]
  },
  {
   "cell_type": "markdown",
   "metadata": {
    "id": "BDQKAwpYo8cW"
   },
   "source": [
    "### Generate graph"
   ]
  },
  {
   "cell_type": "code",
   "execution_count": 3,
   "metadata": {
    "colab": {
     "base_uri": "https://localhost:8080/"
    },
    "executionInfo": {
     "elapsed": 318,
     "status": "ok",
     "timestamp": 1620765400708,
     "user": {
      "displayName": "Zekun Wang",
      "photoUrl": "https://lh3.googleusercontent.com/a-/AOh14Gh140SMb0c80XwwVdi_E7-Lh2XNkXKVWOakF5qL=s64",
      "userId": "05904147758498762863"
     },
     "user_tz": 300
    },
    "id": "23aFsML_bfS1",
    "outputId": "d584ec26-25d7-4c80-a41e-42785674428f"
   },
   "outputs": [
    {
     "name": "stdout",
     "output_type": "stream",
     "text": [
      "numpy version:1.24.2 PyTorch version:1.13.1+cu117 DGL version:1.0.1\n",
      "Namespace(training_dir='./data', model_dir='./model/2023_05_19_13_36_00', output_dir='./output', nodes='features.csv', target_ntype='TransactionID', edges='relation*', labels='tags.csv', new_accounts='test.csv', compute_metrics=True, threshold=0, num_gpus=0, optimizer='adam', lr=0.01, n_epochs=200, n_hidden=16, n_layers=2, weight_decay=0.0001, dropout=0.2, embedding_size=360, n_heads=8, alpha=0.2)\n"
     ]
    }
   ],
   "source": [
    "print('numpy version:{} PyTorch version:{} DGL version:{}'.format(np.__version__,\n",
    "                                                                    th.__version__,\n",
    "                                                                    dgl.__version__))\n",
    "\n",
    "args = parse_args()\n",
    "print(args)"
   ]
  },
  {
   "cell_type": "code",
   "execution_count": 4,
   "metadata": {
    "colab": {
     "base_uri": "https://localhost:8080/"
    },
    "executionInfo": {
     "elapsed": 233720,
     "status": "ok",
     "timestamp": 1620765634870,
     "user": {
      "displayName": "Zekun Wang",
      "photoUrl": "https://lh3.googleusercontent.com/a-/AOh14Gh140SMb0c80XwwVdi_E7-Lh2XNkXKVWOakF5qL=s64",
      "userId": "05904147758498762863"
     },
     "user_tz": 300
    },
    "id": "C4PfzLQKbfS1",
    "outputId": "a00d8856-b3c7-49b4-d3ca-6f98d20620a5",
    "scrolled": true
   },
   "outputs": [
    {
     "name": "stdout",
     "output_type": "stream",
     "text": [
      "Getting relation graphs from the following edge lists : ['relation_TransactionID_edgelist.csv', 'relation_R_emaildomain_edgelist.csv', 'relation_P_emaildomain_edgelist.csv', 'relation_ProductCD_edgelist.csv', 'relation_id_38_edgelist.csv', 'relation_id_37_edgelist.csv', 'relation_id_36_edgelist.csv', 'relation_id_35_edgelist.csv', 'relation_id_34_edgelist.csv', 'relation_id_33_edgelist.csv', 'relation_id_32_edgelist.csv', 'relation_id_31_edgelist.csv', 'relation_id_30_edgelist.csv', 'relation_id_29_edgelist.csv', 'relation_id_28_edgelist.csv', 'relation_id_27_edgelist.csv', 'relation_id_26_edgelist.csv', 'relation_id_25_edgelist.csv', 'relation_id_24_edgelist.csv', 'relation_id_23_edgelist.csv', 'relation_id_22_edgelist.csv', 'relation_id_21_edgelist.csv', 'relation_id_20_edgelist.csv', 'relation_id_19_edgelist.csv', 'relation_id_18_edgelist.csv', 'relation_id_17_edgelist.csv', 'relation_id_16_edgelist.csv', 'relation_id_15_edgelist.csv', 'relation_id_14_edgelist.csv', 'relation_id_13_edgelist.csv', 'relation_id_12_edgelist.csv', 'relation_id_11_edgelist.csv', 'relation_id_10_edgelist.csv', 'relation_id_09_edgelist.csv', 'relation_id_08_edgelist.csv', 'relation_id_07_edgelist.csv', 'relation_id_06_edgelist.csv', 'relation_id_05_edgelist.csv', 'relation_id_04_edgelist.csv', 'relation_id_03_edgelist.csv', 'relation_id_02_edgelist.csv', 'relation_id_01_edgelist.csv', 'relation_DeviceType_edgelist.csv', 'relation_DeviceInfo_edgelist.csv', 'relation_card6_edgelist.csv', 'relation_card5_edgelist.csv', 'relation_card4_edgelist.csv', 'relation_card3_edgelist.csv', 'relation_card2_edgelist.csv', 'relation_card1_edgelist.csv', 'relation_addr2_edgelist.csv', 'relation_addr1_edgelist.csv'] \n",
      "Will add self loop for target later......\n",
      "Read edges for target<R_emaildomain> from edgelist: ./data/relation_R_emaildomain_edgelist.csv\n",
      "Read edges for target<P_emaildomain> from edgelist: ./data/relation_P_emaildomain_edgelist.csv\n",
      "Read edges for target<ProductCD> from edgelist: ./data/relation_ProductCD_edgelist.csv\n",
      "Read edges for target<id_38> from edgelist: ./data/relation_id_38_edgelist.csv\n",
      "Read edges for target<id_37> from edgelist: ./data/relation_id_37_edgelist.csv\n",
      "Read edges for target<id_36> from edgelist: ./data/relation_id_36_edgelist.csv\n",
      "Read edges for target<id_35> from edgelist: ./data/relation_id_35_edgelist.csv\n",
      "Read edges for target<id_34> from edgelist: ./data/relation_id_34_edgelist.csv\n",
      "Read edges for target<id_33> from edgelist: ./data/relation_id_33_edgelist.csv\n",
      "Read edges for target<id_32> from edgelist: ./data/relation_id_32_edgelist.csv\n",
      "Read edges for target<id_31> from edgelist: ./data/relation_id_31_edgelist.csv\n",
      "Read edges for target<id_30> from edgelist: ./data/relation_id_30_edgelist.csv\n",
      "Read edges for target<id_29> from edgelist: ./data/relation_id_29_edgelist.csv\n",
      "Read edges for target<id_28> from edgelist: ./data/relation_id_28_edgelist.csv\n",
      "Read edges for target<id_27> from edgelist: ./data/relation_id_27_edgelist.csv\n",
      "Read edges for target<id_26> from edgelist: ./data/relation_id_26_edgelist.csv\n",
      "Read edges for target<id_25> from edgelist: ./data/relation_id_25_edgelist.csv\n",
      "Read edges for target<id_24> from edgelist: ./data/relation_id_24_edgelist.csv\n",
      "Read edges for target<id_23> from edgelist: ./data/relation_id_23_edgelist.csv\n",
      "Read edges for target<id_22> from edgelist: ./data/relation_id_22_edgelist.csv\n",
      "Read edges for target<id_21> from edgelist: ./data/relation_id_21_edgelist.csv\n",
      "Read edges for target<id_20> from edgelist: ./data/relation_id_20_edgelist.csv\n",
      "Read edges for target<id_19> from edgelist: ./data/relation_id_19_edgelist.csv\n",
      "Read edges for target<id_18> from edgelist: ./data/relation_id_18_edgelist.csv\n",
      "Read edges for target<id_17> from edgelist: ./data/relation_id_17_edgelist.csv\n",
      "Read edges for target<id_16> from edgelist: ./data/relation_id_16_edgelist.csv\n",
      "Read edges for target<id_15> from edgelist: ./data/relation_id_15_edgelist.csv\n",
      "Read edges for target<id_14> from edgelist: ./data/relation_id_14_edgelist.csv\n",
      "Read edges for target<id_13> from edgelist: ./data/relation_id_13_edgelist.csv\n",
      "Read edges for target<id_12> from edgelist: ./data/relation_id_12_edgelist.csv\n",
      "Read edges for target<id_11> from edgelist: ./data/relation_id_11_edgelist.csv\n",
      "Read edges for target<id_10> from edgelist: ./data/relation_id_10_edgelist.csv\n",
      "Read edges for target<id_09> from edgelist: ./data/relation_id_09_edgelist.csv\n",
      "Read edges for target<id_08> from edgelist: ./data/relation_id_08_edgelist.csv\n",
      "Read edges for target<id_07> from edgelist: ./data/relation_id_07_edgelist.csv\n",
      "Read edges for target<id_06> from edgelist: ./data/relation_id_06_edgelist.csv\n",
      "Read edges for target<id_05> from edgelist: ./data/relation_id_05_edgelist.csv\n",
      "Read edges for target<id_04> from edgelist: ./data/relation_id_04_edgelist.csv\n",
      "Read edges for target<id_03> from edgelist: ./data/relation_id_03_edgelist.csv\n",
      "Read edges for target<id_02> from edgelist: ./data/relation_id_02_edgelist.csv\n",
      "Read edges for target<id_01> from edgelist: ./data/relation_id_01_edgelist.csv\n",
      "Read edges for target<DeviceType> from edgelist: ./data/relation_DeviceType_edgelist.csv\n",
      "Read edges for target<DeviceInfo> from edgelist: ./data/relation_DeviceInfo_edgelist.csv\n",
      "Read edges for target<card6> from edgelist: ./data/relation_card6_edgelist.csv\n",
      "Read edges for target<card5> from edgelist: ./data/relation_card5_edgelist.csv\n",
      "Read edges for target<card4> from edgelist: ./data/relation_card4_edgelist.csv\n",
      "Read edges for target<card3> from edgelist: ./data/relation_card3_edgelist.csv\n",
      "Read edges for target<card2> from edgelist: ./data/relation_card2_edgelist.csv\n",
      "Read edges for target<card1> from edgelist: ./data/relation_card1_edgelist.csv\n",
      "Read edges for target<addr2> from edgelist: ./data/relation_addr2_edgelist.csv\n",
      "Read edges for target<addr1> from edgelist: ./data/relation_addr1_edgelist.csv\n",
      "Read in features for target nodes\n",
      "Constructed heterograph with the following metagraph structure: Node types ['DeviceInfo', 'DeviceType', 'P_emaildomain', 'ProductCD', 'R_emaildomain', 'addr1', 'addr2', 'card1', 'card2', 'card3', 'card4', 'card5', 'card6', 'id_01', 'id_02', 'id_03', 'id_04', 'id_05', 'id_06', 'id_07', 'id_08', 'id_09', 'id_10', 'id_11', 'id_12', 'id_13', 'id_14', 'id_15', 'id_16', 'id_17', 'id_18', 'id_19', 'id_20', 'id_21', 'id_22', 'id_23', 'id_24', 'id_25', 'id_26', 'id_27', 'id_28', 'id_29', 'id_30', 'id_31', 'id_32', 'id_33', 'id_34', 'id_35', 'id_36', 'id_37', 'id_38', 'target'], Edge types[('DeviceInfo', 'DeviceInfo<>target', 'target'), ('DeviceType', 'DeviceType<>target', 'target'), ('P_emaildomain', 'P_emaildomain<>target', 'target'), ('ProductCD', 'ProductCD<>target', 'target'), ('R_emaildomain', 'R_emaildomain<>target', 'target'), ('addr1', 'addr1<>target', 'target'), ('addr2', 'addr2<>target', 'target'), ('card1', 'card1<>target', 'target'), ('card2', 'card2<>target', 'target'), ('card3', 'card3<>target', 'target'), ('card4', 'card4<>target', 'target'), ('card5', 'card5<>target', 'target'), ('card6', 'card6<>target', 'target'), ('id_01', 'id_01<>target', 'target'), ('id_02', 'id_02<>target', 'target'), ('id_03', 'id_03<>target', 'target'), ('id_04', 'id_04<>target', 'target'), ('id_05', 'id_05<>target', 'target'), ('id_06', 'id_06<>target', 'target'), ('id_07', 'id_07<>target', 'target'), ('id_08', 'id_08<>target', 'target'), ('id_09', 'id_09<>target', 'target'), ('id_10', 'id_10<>target', 'target'), ('id_11', 'id_11<>target', 'target'), ('id_12', 'id_12<>target', 'target'), ('id_13', 'id_13<>target', 'target'), ('id_14', 'id_14<>target', 'target'), ('id_15', 'id_15<>target', 'target'), ('id_16', 'id_16<>target', 'target'), ('id_17', 'id_17<>target', 'target'), ('id_18', 'id_18<>target', 'target'), ('id_19', 'id_19<>target', 'target'), ('id_20', 'id_20<>target', 'target'), ('id_21', 'id_21<>target', 'target'), ('id_22', 'id_22<>target', 'target'), ('id_23', 'id_23<>target', 'target'), ('id_24', 'id_24<>target', 'target'), ('id_25', 'id_25<>target', 'target'), ('id_26', 'id_26<>target', 'target'), ('id_27', 'id_27<>target', 'target'), ('id_28', 'id_28<>target', 'target'), ('id_29', 'id_29<>target', 'target'), ('id_30', 'id_30<>target', 'target'), ('id_31', 'id_31<>target', 'target'), ('id_32', 'id_32<>target', 'target'), ('id_33', 'id_33<>target', 'target'), ('id_34', 'id_34<>target', 'target'), ('id_35', 'id_35<>target', 'target'), ('id_36', 'id_36<>target', 'target'), ('id_37', 'id_37<>target', 'target'), ('id_38', 'id_38<>target', 'target'), ('target', 'self_relation', 'target'), ('target', 'target<>DeviceInfo', 'DeviceInfo'), ('target', 'target<>DeviceType', 'DeviceType'), ('target', 'target<>P_emaildomain', 'P_emaildomain'), ('target', 'target<>ProductCD', 'ProductCD'), ('target', 'target<>R_emaildomain', 'R_emaildomain'), ('target', 'target<>addr1', 'addr1'), ('target', 'target<>addr2', 'addr2'), ('target', 'target<>card1', 'card1'), ('target', 'target<>card2', 'card2'), ('target', 'target<>card3', 'card3'), ('target', 'target<>card4', 'card4'), ('target', 'target<>card5', 'card5'), ('target', 'target<>card6', 'card6'), ('target', 'target<>id_01', 'id_01'), ('target', 'target<>id_02', 'id_02'), ('target', 'target<>id_03', 'id_03'), ('target', 'target<>id_04', 'id_04'), ('target', 'target<>id_05', 'id_05'), ('target', 'target<>id_06', 'id_06'), ('target', 'target<>id_07', 'id_07'), ('target', 'target<>id_08', 'id_08'), ('target', 'target<>id_09', 'id_09'), ('target', 'target<>id_10', 'id_10'), ('target', 'target<>id_11', 'id_11'), ('target', 'target<>id_12', 'id_12'), ('target', 'target<>id_13', 'id_13'), ('target', 'target<>id_14', 'id_14'), ('target', 'target<>id_15', 'id_15'), ('target', 'target<>id_16', 'id_16'), ('target', 'target<>id_17', 'id_17'), ('target', 'target<>id_18', 'id_18'), ('target', 'target<>id_19', 'id_19'), ('target', 'target<>id_20', 'id_20'), ('target', 'target<>id_21', 'id_21'), ('target', 'target<>id_22', 'id_22'), ('target', 'target<>id_23', 'id_23'), ('target', 'target<>id_24', 'id_24'), ('target', 'target<>id_25', 'id_25'), ('target', 'target<>id_26', 'id_26'), ('target', 'target<>id_27', 'id_27'), ('target', 'target<>id_28', 'id_28'), ('target', 'target<>id_29', 'id_29'), ('target', 'target<>id_30', 'id_30'), ('target', 'target<>id_31', 'id_31'), ('target', 'target<>id_32', 'id_32'), ('target', 'target<>id_33', 'id_33'), ('target', 'target<>id_34', 'id_34'), ('target', 'target<>id_35', 'id_35'), ('target', 'target<>id_36', 'id_36'), ('target', 'target<>id_37', 'id_37'), ('target', 'target<>id_38', 'id_38')]\n",
      "Number of nodes of type target : 590540\n"
     ]
    },
    {
     "name": "stdout",
     "output_type": "stream",
     "text": [
      "feature mean shape:torch.Size([390]), std shape:torch.Size([390])\n"
     ]
    }
   ],
   "source": [
    "args.edges = edges\n",
    "\n",
    "args.edges = get_edgelists('relation*', args.training_dir)\n",
    "\n",
    "g, features, target_id_to_node, id_to_node = construct_graph(args.training_dir,\n",
    "                                                                args.edges,\n",
    "                                                                args.nodes,\n",
    "                                                                args.target_ntype)\n",
    "\n",
    "mean, stdev, features = normalize(th.from_numpy(features))\n",
    "\n",
    "print('feature mean shape:{}, std shape:{}'.format(mean.shape, stdev.shape))"
   ]
  },
  {
   "cell_type": "code",
   "execution_count": 5,
   "metadata": {
    "colab": {
     "base_uri": "https://localhost:8080/"
    },
    "executionInfo": {
     "elapsed": 234609,
     "status": "ok",
     "timestamp": 1620765636388,
     "user": {
      "displayName": "Zekun Wang",
      "photoUrl": "https://lh3.googleusercontent.com/a-/AOh14Gh140SMb0c80XwwVdi_E7-Lh2XNkXKVWOakF5qL=s64",
      "userId": "05904147758498762863"
     },
     "user_tz": 300
    },
    "id": "8Bw1ceNebfS2",
    "outputId": "f56605cc-8069-4363-fdd5-df07dd4ac626"
   },
   "outputs": [
    {
     "name": "stdout",
     "output_type": "stream",
     "text": [
      "Getting labels\n",
      "Got labels\n",
      "----Data statistics------'\n",
      "            #Nodes: 726345\n",
      "            #Edges: 19518802\n",
      "            #Features Shape: torch.Size([590540, 390])\n",
      "            #Labeled Test samples: 118108.0\n"
     ]
    }
   ],
   "source": [
    "g.nodes['target'].data['features'] = features\n",
    "\n",
    "print(\"Getting labels\")\n",
    "n_nodes = g.number_of_nodes('target')\n",
    "\n",
    "labels, _, test_mask = get_labels(target_id_to_node,\n",
    "                                            n_nodes,\n",
    "                                            args.target_ntype,\n",
    "                                            os.path.join(args.training_dir, args.labels),\n",
    "                                            os.path.join(args.training_dir, args.new_accounts))\n",
    "print(\"Got labels\")\n",
    "\n",
    "labels = th.from_numpy(labels).float()\n",
    "test_mask = th.from_numpy(test_mask).float()\n",
    "\n",
    "n_nodes = th.sum(th.tensor([g.number_of_nodes(n_type) for n_type in g.ntypes]))\n",
    "n_edges = th.sum(th.tensor([g.number_of_edges(e_type) for e_type in g.etypes]))\n",
    "\n",
    "print(\"\"\"----Data statistics------'\n",
    "            #Nodes: {}\n",
    "            #Edges: {}\n",
    "            #Features Shape: {}\n",
    "            #Labeled Test samples: {}\"\"\".format(n_nodes,\n",
    "                                                    n_edges,\n",
    "                                                    features.shape,\n",
    "                                                    test_mask.sum()))"
   ]
  },
  {
   "cell_type": "markdown",
   "metadata": {
    "id": "FjhjypJEo8cX"
   },
   "source": [
    "### Start training\n",
    "\n",
    "The training process and result will be saved in the same folder. "
   ]
  },
  {
   "cell_type": "code",
   "execution_count": 6,
   "metadata": {
    "id": "UETWzSN6bfS3"
   },
   "outputs": [],
   "source": [
    "if args.num_gpus:\n",
    "    cuda = True\n",
    "    device = th.device('cuda:0')\n",
    "else:\n",
    "    cuda = False\n",
    "    device = th.device('cpu')"
   ]
  },
  {
   "cell_type": "code",
   "execution_count": 7,
   "metadata": {
    "colab": {
     "base_uri": "https://localhost:8080/",
     "height": 1000
    },
    "executionInfo": {
     "elapsed": 5097409,
     "status": "ok",
     "timestamp": 1620799361346,
     "user": {
      "displayName": "Zekun Wang",
      "photoUrl": "https://lh3.googleusercontent.com/a-/AOh14Gh140SMb0c80XwwVdi_E7-Lh2XNkXKVWOakF5qL=s64",
      "userId": "05904147758498762863"
     },
     "user_tz": 300
    },
    "id": "AWQp2MxLHXdo",
    "outputId": "5a0c315c-0e7e-4391-ec98-0411d0a4c59a"
   },
   "outputs": [
    {
     "name": "stdout",
     "output_type": "stream",
     "text": [
      "Initializing Model\n",
      "Initialized Model\n",
      "Starting Model training\n"
     ]
    },
    {
     "name": "stderr",
     "output_type": "stream",
     "text": [
      "/home/mtech/2021/n.kalyani/.conda/envs/kalyani/lib/python3.10/site-packages/torch/autograd/__init__.py:197: UserWarning: CUDA initialization: The NVIDIA driver on your system is too old (found version 10020). Please update your GPU driver by downloading and installing a new version from the URL: http://www.nvidia.com/Download/index.aspx Alternatively, go to: https://pytorch.org to install a PyTorch version that has been compiled with your version of the CUDA driver. (Triggered internally at ../c10/cuda/CUDAFunctions.cpp:109.)\n",
      "  Variable._execution_engine.run_backward(  # Calls into the C++ engine to run the backward pass\n"
     ]
    },
    {
     "name": "stdout",
     "output_type": "stream",
     "text": [
      "Epoch 00000, Time(s) 16.0350, Loss 0.3842, F1 0.0000 \n",
      "Epoch 00001, Time(s) 15.2273, Loss 1.0864, F1 0.0004 \n",
      "Epoch 00002, Time(s) 14.0008, Loss 0.6801, F1 0.0374 \n",
      "Epoch 00003, Time(s) 13.1069, Loss 0.3611, F1 0.1802 \n",
      "Epoch 00004, Time(s) 12.6811, Loss 0.7475, F1 0.2017 \n",
      "Epoch 00005, Time(s) 12.3984, Loss 0.2137, F1 0.0209 \n",
      "Epoch 00006, Time(s) 12.1071, Loss 0.2300, F1 0.0090 \n",
      "Epoch 00007, Time(s) 11.9267, Loss 0.2695, F1 0.0252 \n",
      "Epoch 00008, Time(s) 11.7152, Loss 0.2636, F1 0.0415 \n",
      "Epoch 00009, Time(s) 11.5663, Loss 0.2315, F1 0.0852 \n",
      "Epoch 00010, Time(s) 11.4168, Loss 0.2109, F1 0.1160 \n",
      "Epoch 00011, Time(s) 11.3541, Loss 0.1816, F1 0.1360 \n",
      "Epoch 00012, Time(s) 11.3040, Loss 0.1554, F1 0.2039 \n",
      "Epoch 00013, Time(s) 11.4178, Loss 0.1397, F1 0.3071 \n",
      "Epoch 00014, Time(s) 11.8890, Loss 0.1451, F1 0.3073 \n",
      "Epoch 00015, Time(s) 12.4993, Loss 0.1489, F1 0.2728 \n",
      "Epoch 00016, Time(s) 13.2706, Loss 0.1362, F1 0.2054 \n",
      "Epoch 00017, Time(s) 13.7254, Loss 0.1345, F1 0.1785 \n",
      "Epoch 00018, Time(s) 13.7718, Loss 0.1342, F1 0.1829 \n",
      "Epoch 00019, Time(s) 13.7511, Loss 0.1304, F1 0.2185 \n",
      "Epoch 00020, Time(s) 13.7761, Loss 0.1269, F1 0.2754 \n",
      "Epoch 00021, Time(s) 13.8566, Loss 0.1286, F1 0.2743 \n",
      "Epoch 00022, Time(s) 13.8018, Loss 0.1256, F1 0.2301 \n",
      "Epoch 00023, Time(s) 13.7914, Loss 0.1191, F1 0.1931 \n",
      "Epoch 00024, Time(s) 13.7984, Loss 0.1185, F1 0.1778 \n",
      "Epoch 00025, Time(s) 13.8289, Loss 0.1201, F1 0.1850 \n",
      "Epoch 00026, Time(s) 13.8114, Loss 0.1201, F1 0.2123 \n",
      "Epoch 00027, Time(s) 13.7027, Loss 0.1186, F1 0.2532 \n",
      "Epoch 00028, Time(s) 13.6422, Loss 0.1175, F1 0.2848 \n",
      "Epoch 00029, Time(s) 13.6146, Loss 0.1176, F1 0.2901 \n",
      "Epoch 00030, Time(s) 13.5322, Loss 0.1165, F1 0.2728 \n",
      "Epoch 00031, Time(s) 13.4320, Loss 0.1145, F1 0.2463 \n",
      "Epoch 00032, Time(s) 13.3500, Loss 0.1137, F1 0.2291 \n",
      "Epoch 00033, Time(s) 13.2521, Loss 0.1142, F1 0.2322 \n",
      "Epoch 00034, Time(s) 13.1809, Loss 0.1144, F1 0.2488 \n",
      "Epoch 00035, Time(s) 13.1718, Loss 0.1140, F1 0.2717 \n",
      "Epoch 00036, Time(s) 13.1827, Loss 0.1134, F1 0.2913 \n",
      "Epoch 00037, Time(s) 13.1647, Loss 0.1128, F1 0.3039 \n",
      "Epoch 00038, Time(s) 13.4541, Loss 0.1123, F1 0.3045 \n",
      "Epoch 00039, Time(s) 13.4637, Loss 0.1118, F1 0.2965 \n",
      "Epoch 00040, Time(s) 13.4604, Loss 0.1115, F1 0.2901 \n",
      "Epoch 00041, Time(s) 13.4695, Loss 0.1116, F1 0.2903 \n",
      "Epoch 00042, Time(s) 13.4448, Loss 0.1115, F1 0.2970 \n",
      "Epoch 00043, Time(s) 13.3849, Loss 0.1111, F1 0.3084 \n",
      "Epoch 00044, Time(s) 13.3198, Loss 0.1106, F1 0.3186 \n",
      "Epoch 00045, Time(s) 13.2654, Loss 0.1102, F1 0.3218 \n",
      "Epoch 00046, Time(s) 13.2094, Loss 0.1100, F1 0.3178 \n",
      "Epoch 00047, Time(s) 13.1575, Loss 0.1098, F1 0.3099 \n",
      "Epoch 00048, Time(s) 13.1054, Loss 0.1096, F1 0.3044 \n",
      "Epoch 00049, Time(s) 13.0601, Loss 0.1095, F1 0.3055 \n",
      "Epoch 00050, Time(s) 13.0044, Loss 0.1092, F1 0.3144 \n",
      "Epoch 00051, Time(s) 12.9508, Loss 0.1088, F1 0.3272 \n",
      "Epoch 00052, Time(s) 12.9033, Loss 0.1085, F1 0.3344 \n",
      "Epoch 00053, Time(s) 12.8783, Loss 0.1084, F1 0.3345 \n",
      "Epoch 00054, Time(s) 13.0223, Loss 0.1082, F1 0.3279 \n",
      "Epoch 00055, Time(s) 13.2184, Loss 0.1079, F1 0.3236 \n",
      "Epoch 00056, Time(s) 13.3416, Loss 0.1077, F1 0.3267 \n",
      "Epoch 00057, Time(s) 13.5329, Loss 0.1074, F1 0.3330 \n",
      "Epoch 00058, Time(s) 13.5266, Loss 0.1072, F1 0.3371 \n",
      "Epoch 00059, Time(s) 13.5274, Loss 0.1070, F1 0.3350 \n",
      "Epoch 00060, Time(s) 13.5683, Loss 0.1067, F1 0.3324 \n",
      "Epoch 00061, Time(s) 16.3707, Loss 0.1065, F1 0.3370 \n",
      "Epoch 00062, Time(s) 19.2598, Loss 0.1063, F1 0.3446 \n",
      "Epoch 00063, Time(s) 22.1581, Loss 0.1061, F1 0.3473 \n",
      "Epoch 00064, Time(s) 24.6108, Loss 0.1058, F1 0.3450 \n",
      "Epoch 00065, Time(s) 27.0254, Loss 0.1055, F1 0.3456 \n",
      "Epoch 00066, Time(s) 29.5797, Loss 0.1053, F1 0.3482 \n",
      "Epoch 00067, Time(s) 32.1624, Loss 0.1051, F1 0.3493 \n",
      "Epoch 00068, Time(s) 34.4650, Loss 0.1048, F1 0.3520 \n",
      "Epoch 00069, Time(s) 36.5525, Loss 0.1045, F1 0.3570 \n",
      "Epoch 00070, Time(s) 38.7089, Loss 0.1043, F1 0.3551 \n",
      "Epoch 00071, Time(s) 40.8443, Loss 0.1040, F1 0.3625 \n",
      "Epoch 00072, Time(s) 42.8770, Loss 0.1038, F1 0.3534 \n",
      "Epoch 00073, Time(s) 45.0416, Loss 0.1036, F1 0.3762 \n",
      "Epoch 00074, Time(s) 46.9037, Loss 0.1034, F1 0.3501 \n",
      "Epoch 00075, Time(s) 48.8516, Loss 0.1033, F1 0.3772 \n",
      "Epoch 00076, Time(s) 50.5258, Loss 0.1028, F1 0.3747 \n",
      "Epoch 00077, Time(s) 52.6144, Loss 0.1025, F1 0.3585 \n",
      "Epoch 00078, Time(s) 54.8089, Loss 0.1024, F1 0.3818 \n",
      "Epoch 00079, Time(s) 56.5163, Loss 0.1021, F1 0.3780 \n",
      "Epoch 00080, Time(s) 58.3897, Loss 0.1018, F1 0.3658 \n",
      "Epoch 00081, Time(s) 58.8013, Loss 0.1016, F1 0.3853 \n",
      "Epoch 00082, Time(s) 60.4751, Loss 0.1014, F1 0.3748 \n",
      "Epoch 00083, Time(s) 62.3395, Loss 0.1010, F1 0.3815 \n",
      "Epoch 00084, Time(s) 63.7305, Loss 0.1007, F1 0.3888 \n",
      "Epoch 00085, Time(s) 65.3019, Loss 0.1005, F1 0.3681 \n",
      "Epoch 00086, Time(s) 67.0228, Loss 0.1004, F1 0.4116 \n",
      "Epoch 00087, Time(s) 68.6029, Loss 0.1007, F1 0.3377 \n",
      "Epoch 00088, Time(s) 70.8178, Loss 0.1015, F1 0.3987 \n",
      "Epoch 00089, Time(s) 72.4766, Loss 0.0995, F1 0.4194 \n",
      "Epoch 00090, Time(s) 74.4104, Loss 0.1001, F1 0.3430 \n",
      "Epoch 00091, Time(s) 75.5952, Loss 0.1007, F1 0.3809 \n",
      "Epoch 00092, Time(s) 77.2420, Loss 0.0987, F1 0.4400 \n",
      "Epoch 00093, Time(s) 78.7342, Loss 0.1009, F1 0.3662 \n",
      "Epoch 00094, Time(s) 80.2084, Loss 0.0991, F1 0.3599 \n",
      "Epoch 00095, Time(s) 81.4885, Loss 0.0992, F1 0.4300 \n",
      "Epoch 00096, Time(s) 82.6289, Loss 0.0985, F1 0.4192 \n",
      "Epoch 00097, Time(s) 84.3442, Loss 0.0975, F1 0.3668 \n",
      "Epoch 00098, Time(s) 85.4666, Loss 0.0981, F1 0.3968 \n",
      "Epoch 00099, Time(s) 86.9298, Loss 0.0967, F1 0.4441 \n",
      "Epoch 00100, Time(s) 87.9341, Loss 0.0980, F1 0.3759 \n",
      "Epoch 00101, Time(s) 88.7889, Loss 0.0969, F1 0.3824 \n",
      "Epoch 00102, Time(s) 89.8661, Loss 0.0963, F1 0.4471 \n",
      "Epoch 00103, Time(s) 90.9024, Loss 0.0968, F1 0.4082 \n",
      "Epoch 00104, Time(s) 91.9446, Loss 0.0950, F1 0.3841 \n",
      "Epoch 00105, Time(s) 92.8962, Loss 0.0955, F1 0.4294 \n",
      "Epoch 00106, Time(s) 93.8160, Loss 0.0944, F1 0.4432 \n",
      "Epoch 00107, Time(s) 94.8548, Loss 0.0944, F1 0.3964 \n",
      "Epoch 00108, Time(s) 95.8138, Loss 0.0942, F1 0.4154 \n",
      "Epoch 00109, Time(s) 96.5912, Loss 0.0933, F1 0.4577 \n",
      "Epoch 00110, Time(s) 97.4380, Loss 0.0937, F1 0.4144 \n",
      "Epoch 00111, Time(s) 98.3473, Loss 0.0927, F1 0.4186 \n",
      "Epoch 00112, Time(s) 99.2136, Loss 0.0923, F1 0.4635 \n",
      "Epoch 00113, Time(s) 100.1619, Loss 0.0924, F1 0.4309 \n",
      "Epoch 00114, Time(s) 101.0243, Loss 0.0914, F1 0.4328 \n",
      "Epoch 00115, Time(s) 101.7783, Loss 0.0911, F1 0.4725 \n",
      "Epoch 00116, Time(s) 102.6468, Loss 0.0910, F1 0.4384 \n",
      "Epoch 00117, Time(s) 103.3193, Loss 0.0903, F1 0.4511 \n",
      "Epoch 00118, Time(s) 104.1220, Loss 0.0897, F1 0.4834 \n",
      "Epoch 00119, Time(s) 105.0380, Loss 0.0898, F1 0.4414 \n",
      "Epoch 00120, Time(s) 105.6519, Loss 0.0895, F1 0.4721 \n",
      "Epoch 00121, Time(s) 106.5119, Loss 0.0886, F1 0.4858 \n",
      "Epoch 00122, Time(s) 107.2289, Loss 0.0884, F1 0.4454 \n",
      "Epoch 00123, Time(s) 107.7785, Loss 0.0887, F1 0.4976 \n",
      "Epoch 00124, Time(s) 108.2723, Loss 0.0882, F1 0.4542 \n",
      "Epoch 00125, Time(s) 108.8044, Loss 0.0879, F1 0.4973 \n",
      "Epoch 00126, Time(s) 109.3256, Loss 0.0872, F1 0.4695 \n",
      "Epoch 00127, Time(s) 109.8831, Loss 0.0868, F1 0.4986 \n",
      "Epoch 00128, Time(s) 110.3738, Loss 0.0864, F1 0.4728 \n",
      "Epoch 00129, Time(s) 110.8306, Loss 0.0862, F1 0.5102 \n",
      "Epoch 00130, Time(s) 111.3718, Loss 0.0860, F1 0.4566 \n",
      "Epoch 00131, Time(s) 111.8732, Loss 0.0867, F1 0.5361 \n",
      "Epoch 00132, Time(s) 112.3221, Loss 0.0877, F1 0.3822 \n",
      "Epoch 00133, Time(s) 112.8347, Loss 0.0933, F1 0.5385 \n",
      "Epoch 00134, Time(s) 113.4129, Loss 0.0881, F1 0.4736 \n",
      "Epoch 00135, Time(s) 113.8811, Loss 0.0861, F1 0.4939 \n",
      "Epoch 00136, Time(s) 114.3844, Loss 0.0849, F1 0.5405 \n",
      "Epoch 00137, Time(s) 114.8992, Loss 0.0871, F1 0.3828 \n",
      "Epoch 00138, Time(s) 115.3939, Loss 0.0934, F1 0.5322 \n",
      "Epoch 00139, Time(s) 115.8933, Loss 0.0856, F1 0.5396 \n",
      "Epoch 00140, Time(s) 116.3231, Loss 0.0861, F1 0.3998 \n",
      "Epoch 00141, Time(s) 116.7484, Loss 0.0923, F1 0.5197 \n",
      "Epoch 00142, Time(s) 117.1410, Loss 0.0840, F1 0.5435 \n",
      "Epoch 00143, Time(s) 117.6034, Loss 0.0928, F1 0.3445 \n",
      "Epoch 00144, Time(s) 118.0193, Loss 0.1026, F1 0.4237 \n",
      "Epoch 00145, Time(s) 118.3436, Loss 0.0947, F1 0.5288 \n",
      "Epoch 00146, Time(s) 118.6762, Loss 0.0972, F1 0.4836 \n",
      "Epoch 00147, Time(s) 119.1034, Loss 0.0870, F1 0.4614 \n",
      "Epoch 00148, Time(s) 119.5138, Loss 0.0935, F1 0.4823 \n",
      "Epoch 00149, Time(s) 119.9125, Loss 0.0875, F1 0.5481 \n",
      "Epoch 00150, Time(s) 120.3186, Loss 0.0896, F1 0.4859 \n",
      "Epoch 00151, Time(s) 120.7427, Loss 0.0864, F1 0.4209 \n"
     ]
    },
    {
     "name": "stdout",
     "output_type": "stream",
     "text": [
      "Epoch 00152, Time(s) 121.0901, Loss 0.0896, F1 0.5125 \n",
      "Epoch 00153, Time(s) 121.4649, Loss 0.0842, F1 0.5486 \n",
      "Epoch 00154, Time(s) 121.8613, Loss 0.0881, F1 0.4759 \n",
      "Epoch 00155, Time(s) 122.1974, Loss 0.0859, F1 0.4709 \n",
      "Epoch 00156, Time(s) 122.5139, Loss 0.0865, F1 0.5231 \n",
      "Epoch 00157, Time(s) 122.8461, Loss 0.0841, F1 0.5197 \n",
      "Epoch 00158, Time(s) 123.1393, Loss 0.0874, F1 0.4909 \n",
      "Epoch 00159, Time(s) 123.4697, Loss 0.0831, F1 0.4974 \n",
      "Epoch 00160, Time(s) 123.8132, Loss 0.0857, F1 0.5003 \n",
      "Epoch 00161, Time(s) 124.1099, Loss 0.0843, F1 0.5415 \n",
      "Epoch 00162, Time(s) 124.4464, Loss 0.0844, F1 0.5256 \n",
      "Epoch 00163, Time(s) 124.7681, Loss 0.0841, F1 0.4605 \n",
      "Epoch 00164, Time(s) 125.1217, Loss 0.0848, F1 0.5121 \n",
      "Epoch 00165, Time(s) 125.4891, Loss 0.0823, F1 0.5647 \n",
      "Epoch 00166, Time(s) 125.7984, Loss 0.0850, F1 0.5038 \n",
      "Epoch 00167, Time(s) 126.1306, Loss 0.0832, F1 0.4927 \n",
      "Epoch 00168, Time(s) 126.4432, Loss 0.0831, F1 0.5519 \n",
      "Epoch 00169, Time(s) 126.7539, Loss 0.0832, F1 0.5357 \n",
      "Epoch 00170, Time(s) 127.0182, Loss 0.0826, F1 0.5036 \n",
      "Epoch 00171, Time(s) 127.3741, Loss 0.0820, F1 0.5324 \n",
      "Epoch 00172, Time(s) 127.6045, Loss 0.0824, F1 0.5446 \n",
      "Epoch 00173, Time(s) 127.9090, Loss 0.0809, F1 0.5360 \n",
      "Epoch 00174, Time(s) 128.2189, Loss 0.0815, F1 0.5341 \n",
      "Epoch 00175, Time(s) 128.5233, Loss 0.0808, F1 0.5390 \n",
      "Epoch 00176, Time(s) 128.8186, Loss 0.0805, F1 0.5429 \n",
      "Epoch 00177, Time(s) 129.0779, Loss 0.0812, F1 0.5278 \n",
      "Epoch 00178, Time(s) 129.3482, Loss 0.0804, F1 0.5470 \n",
      "Epoch 00179, Time(s) 129.6201, Loss 0.0801, F1 0.5497 \n",
      "Epoch 00180, Time(s) 129.8822, Loss 0.0809, F1 0.5295 \n",
      "Epoch 00181, Time(s) 130.1472, Loss 0.0799, F1 0.5580 \n",
      "Epoch 00182, Time(s) 130.4535, Loss 0.0796, F1 0.5510 \n",
      "Epoch 00183, Time(s) 130.7004, Loss 0.0807, F1 0.5369 \n",
      "Epoch 00184, Time(s) 130.9099, Loss 0.0792, F1 0.5576 \n",
      "Epoch 00185, Time(s) 131.1187, Loss 0.0793, F1 0.5510 \n",
      "Epoch 00186, Time(s) 131.3553, Loss 0.0809, F1 0.5425 \n",
      "Epoch 00187, Time(s) 131.5616, Loss 0.0791, F1 0.5657 \n",
      "Epoch 00188, Time(s) 131.8350, Loss 0.0788, F1 0.5504 \n",
      "Epoch 00189, Time(s) 132.1118, Loss 0.0814, F1 0.5391 \n",
      "Epoch 00190, Time(s) 132.4018, Loss 0.0790, F1 0.5715 \n",
      "Epoch 00191, Time(s) 132.6189, Loss 0.0785, F1 0.5526 \n",
      "Epoch 00192, Time(s) 132.8392, Loss 0.0821, F1 0.5316 \n",
      "Epoch 00193, Time(s) 133.0377, Loss 0.0796, F1 0.5804 \n",
      "Epoch 00194, Time(s) 133.2982, Loss 0.0791, F1 0.5432 \n",
      "Epoch 00195, Time(s) 133.5046, Loss 0.0851, F1 0.5120 \n",
      "Epoch 00196, Time(s) 133.7687, Loss 0.0807, F1 0.5806 \n",
      "Epoch 00197, Time(s) 134.0148, Loss 0.0859, F1 0.5284 \n",
      "Epoch 00198, Time(s) 134.2221, Loss 0.0976, F1 0.4174 \n",
      "Epoch 00199, Time(s) 134.4049, Loss 0.0977, F1 0.5478 \n",
      "Metrics\n",
      "Confusion Matrix:\n",
      "                                                    labels positive  labels negative\n",
      "predicted positive             1603              441\n",
      "predicted negative             2461           113603\n",
      "                                f1: 0.5249, precision: 0.7842, recall: 0.3944, acc: 0.9754, roc: 0.9188, pr: 0.5830, ap: 0.5831\n",
      "                             \n",
      "Finished Model training\n",
      "Saving model\n",
      "Model and metadata saved\n"
     ]
    },
    {
     "data": {
      "image/png": "[encoded data removed]",
      "text/plain": [
       "<Figure size 640x480 with 1 Axes>"
      ]
     },
     "metadata": {},
     "output_type": "display_data"
    },
    {
     "data": {
      "image/png": "[encoded data removed]",
      "text/plain": [
       "<Figure size 640x480 with 1 Axes>"
      ]
     },
     "metadata": {},
     "output_type": "display_data"
    }
   ],
   "source": [
    "print(\"Initializing Model\")\n",
    "in_feats = features.shape[1]\n",
    "n_classes = 2\n",
    "\n",
    "ntype_dict = {n_type: g.number_of_nodes(n_type) for n_type in g.ntypes}\n",
    "\n",
    "model = get_model(ntype_dict, g.etypes, vars(args), in_feats, n_classes, device)\n",
    "print(\"Initialized Model\")\n",
    "\n",
    "features = features.to(device)\n",
    "\n",
    "labels = labels.long().to(device)\n",
    "test_mask = test_mask.to(device)\n",
    "# g = g.to(device)\n",
    "\n",
    "loss = th.nn.CrossEntropyLoss()\n",
    "\n",
    "# print(model)\n",
    "optim = th.optim.Adam(model.parameters(), lr=args.lr, weight_decay=args.weight_decay)\n",
    "\n",
    "print(\"Starting Model training\")\n",
    "\n",
    "initial_record()\n",
    "\n",
    "model, class_preds, pred_proba = train_fg(model, optim, loss, features, labels, g, g,\n",
    "                                            test_mask, device, 200,\n",
    "                                            args.threshold,  args.compute_metrics)\n",
    "print(\"Finished Model training\")\n",
    "\n",
    "print(\"Saving model\") \n",
    "\n",
    "if not os.path.exists(args.model_dir):\n",
    "    os.makedirs(args.model_dir)\n",
    "\n",
    "save_model(g, model, args.model_dir, id_to_node, mean, stdev)\n",
    "print(\"Model and metadata saved\")"
   ]
  },
  {
   "cell_type": "code",
   "execution_count": 8,
   "metadata": {
    "id": "Asfws7O3oZLb"
   },
   "outputs": [
    {
     "data": {
      "text/html": [
       "<div>\n",
       "<style scoped>\n",
       "    .dataframe tbody tr th:only-of-type {\n",
       "        vertical-align: middle;\n",
       "    }\n",
       "\n",
       "    .dataframe tbody tr th {\n",
       "        vertical-align: top;\n",
       "    }\n",
       "\n",
       "    .dataframe thead th {\n",
       "        text-align: right;\n",
       "    }\n",
       "</style>\n",
       "<table border=\"1\" class=\"dataframe\">\n",
       "  <thead>\n",
       "    <tr style=\"text-align: right;\">\n",
       "      <th></th>\n",
       "      <th>Epoch</th>\n",
       "      <th>Time(s)</th>\n",
       "      <th>Loss</th>\n",
       "      <th>F1</th>\n",
       "    </tr>\n",
       "  </thead>\n",
       "  <tbody>\n",
       "    <tr>\n",
       "      <th>0</th>\n",
       "      <td>0</td>\n",
       "      <td>16.0350</td>\n",
       "      <td>0.3842</td>\n",
       "      <td>0.0000</td>\n",
       "    </tr>\n",
       "    <tr>\n",
       "      <th>1</th>\n",
       "      <td>1</td>\n",
       "      <td>15.2273</td>\n",
       "      <td>1.0864</td>\n",
       "      <td>0.0004</td>\n",
       "    </tr>\n",
       "    <tr>\n",
       "      <th>2</th>\n",
       "      <td>2</td>\n",
       "      <td>14.0008</td>\n",
       "      <td>0.6801</td>\n",
       "      <td>0.0374</td>\n",
       "    </tr>\n",
       "    <tr>\n",
       "      <th>3</th>\n",
       "      <td>3</td>\n",
       "      <td>13.1069</td>\n",
       "      <td>0.3611</td>\n",
       "      <td>0.1802</td>\n",
       "    </tr>\n",
       "    <tr>\n",
       "      <th>4</th>\n",
       "      <td>4</td>\n",
       "      <td>12.6811</td>\n",
       "      <td>0.7475</td>\n",
       "      <td>0.2017</td>\n",
       "    </tr>\n",
       "  </tbody>\n",
       "</table>\n",
       "</div>"
      ],
      "text/plain": [
       "   Epoch  Time(s)    Loss      F1\n",
       "0      0  16.0350  0.3842  0.0000\n",
       "1      1  15.2273  1.0864  0.0004\n",
       "2      2  14.0008  0.6801  0.0374\n",
       "3      3  13.1069  0.3611  0.1802\n",
       "4      4  12.6811  0.7475  0.2017"
      ]
     },
     "execution_count": 8,
     "metadata": {},
     "output_type": "execute_result"
    }
   ],
   "source": [
    "results = pd.read_csv('./output1/results.txt')\n",
    "results.drop(['Accuracy'], axis=1,inplace=True)\n",
    "results.head()"
   ]
  },
  {
   "cell_type": "code",
   "execution_count": 9,
   "metadata": {
    "id": "i8VQMM62By1k"
   },
   "outputs": [],
   "source": [
    "import matplotlib.pyplot as plt"
   ]
  },
  {
   "cell_type": "code",
   "execution_count": 10,
   "metadata": {
    "id": "ZJ2Cf2ieBy37"
   },
   "outputs": [
    {
     "data": {
      "image/png": "[encoded data removed]",
      "text/plain": [
       "<Figure size 640x480 with 1 Axes>"
      ]
     },
     "metadata": {},
     "output_type": "display_data"
    }
   ],
   "source": [
    "plt.plot(results['Epoch'],results['Loss'],color='r')\n",
    "plt.yscale('log')\n",
    "plt.xlabel('Epoch')        \n",
    "plt.ylabel('Loss')   \n",
    "plt.title(\"Loss Curve\")\n",
    "plt.savefig('./output1/loss.jpg')\n",
    "plt.show()\n"
   ]
  },
  {
   "cell_type": "code",
   "execution_count": 11,
   "metadata": {
    "id": "DsId7ZeqNQNd"
   },
   "outputs": [
    {
     "data": {
      "image/png": "[encoded data removed]",
      "text/plain": [
       "<Figure size 640x480 with 1 Axes>"
      ]
     },
     "metadata": {},
     "output_type": "display_data"
    }
   ],
   "source": [
    "plt.plot(results['Epoch'],results['F1'],color='g')\n",
    "plt.xlabel('Epoch')        \n",
    "plt.ylabel('F1_score')   \n",
    "plt.title(\"F1_Score Curve\")\n",
    "plt.savefig('./output1/F1_score.jpg')\n",
    "plt.show()"
   ]
  },
  {
   "cell_type": "code",
   "execution_count": 12,
   "metadata": {
    "colab": {
     "base_uri": "https://localhost:8080/"
    },
    "executionInfo": {
     "elapsed": 219,
     "status": "ok",
     "timestamp": 1618992670492,
     "user": {
      "displayName": "Zekun Wang",
      "photoUrl": "https://lh3.googleusercontent.com/a-/AOh14Gh140SMb0c80XwwVdi_E7-Lh2XNkXKVWOakF5qL=s64",
      "userId": "05904147758498762863"
     },
     "user_tz": 300
    },
    "id": "-u3-n_xdoZLc",
    "outputId": "8b9f8314-147b-44a9-9a4c-ec4f84793e9f"
   },
   "outputs": [
    {
     "name": "stdout",
     "output_type": "stream",
     "text": [
      "Average time per epochs: 73.591177 sec\n"
     ]
    }
   ],
   "source": [
    "#average time in second\n",
    "time_avg=results['Time(s)'].mean()\n",
    "print(\"Average time per epochs:\",time_avg,\"sec\")"
   ]
  },
  {
   "cell_type": "code",
   "execution_count": null,
   "metadata": {
    "id": "0JTmmYlyoZLc"
   },
   "outputs": [],
   "source": []
  },
  {
   "cell_type": "code",
   "execution_count": null,
   "metadata": {
    "id": "RUaiLCITHXdo"
   },
   "outputs": [],
   "source": []
  }
 ],
 "metadata": {
  "colab": {
   "collapsed_sections": [],
   "machine_shape": "hm",
   "name": "20_modeling_pytoch.ipynb",
   "provenance": [],
   "toc_visible": true
  },
  "kernelspec": {
   "display_name": "Python 3",
   "language": "python",
   "name": "python3"
  },
  "language_info": {
   "codemirror_mode": {
    "name": "ipython",
    "version": 3
   },
   "file_extension": ".py",
   "mimetype": "text/x-python",
   "name": "python",
   "nbconvert_exporter": "python",
   "pygments_lexer": "ipython3",
   "version": "3.8.8"
  },
  "metadata": {
   "interpreter": {
    "hash": "31f2aee4e71d21fbe5cf8b01ff0e069b9275f58929596ceb00d14d90e3e16cd6"
   }
  }
 },
 "nbformat": 4,
 "nbformat_minor": 1
}

{
 "cells": [
  {
   "cell_type": "markdown",
   "metadata": {},
   "source": [
    "###### Data Preparation\n",
    "\n"
   ]
  },
  {
   "cell_type": "markdown",
   "metadata": {},
   "source": [
    "## Data Overview \n",
    "\n",
    "Import the numpy and pandas modules."
   ]
  },
  {
   "cell_type": "code",
   "execution_count": 1,
   "metadata": {},
   "outputs": [],
   "source": [
    "import numpy as np\n",
    "import pandas as pd\n",
    "import seaborn as sns"
   ]
  },
  {
   "cell_type": "markdown",
   "metadata": {},
   "source": [
    "## Data Description\n",
    "\n",
    "### Transaction Table \n",
    "- TransactionDT: timedelta from a given reference datetime (not an actual timestamp)\n",
    "- TransactionAMT: transaction payment amount in USD\n",
    "- ProductCD: product code, the product for each transaction\n",
    "- card1 - card6: payment card information, such as card type, card category, issue bank, country, etc.\n",
    "- addr: address\n",
    "- dist: distance\n",
    "- P_ and (R__) emaildomain: purchaser and recipient email domain\n",
    "- C1-C14: counting, such as how many addresses are found to be associated with the payment card, etc. The actual meaning is masked.\n",
    "- D1-D15: timedelta, such as days between previous transaction, etc.\n",
    "- M1-M9: match, such as names on card and address, etc.\n",
    "- Vxxx: Vesta engineered rich features, including ranking, counting, and other entity relations.\n",
    "\n",
    "Categorical Features:\n",
    "- ProductCD\n",
    "- card1 - card6\n",
    "- addr1, addr2\n",
    "- P_emaildomain\n",
    "- R_emaildomain\n",
    "- M1 - M9\n",
    "\n",
    "## Identity Table\n",
    "Variables in this table are identity information – network connection information (IP, ISP, Proxy, etc) and digital signature (UA/browser/os/version, etc) associated with transactions.\n",
    "They're collected by Vesta’s fraud protection system and digital security partners.\n",
    "(The field names are masked and pairwise dictionary will not be provided for privacy protection and contract agreement)\n",
    "\n",
    "Categorical Features:\n",
    "- DeviceType\n",
    "- DeviceInfo\n",
    "- id_12 - id_38"
   ]
  },
  {
   "cell_type": "code",
   "execution_count": 2,
   "metadata": {},
   "outputs": [],
   "source": [
    "transaction_df = pd.read_csv('./ieee-data/train_transaction.csv')\n",
    "identity_df = pd.read_csv('./ieee-data/train_identity.csv')\n",
    "test_transaction = pd.read_csv('./ieee-data/test_transaction.csv')\n",
    "test_identity = pd.read_csv('./ieee-data/test_identity.csv')"
   ]
  },
  {
   "cell_type": "code",
   "execution_count": 3,
   "metadata": {},
   "outputs": [],
   "source": [
    "id_cols = ['card1','card2','card3','card4','card5','card6','ProductCD','addr1','addr2','P_emaildomain','R_emaildomain']\n",
    "cat_cols = ['M1','M2','M3','M4','M5','M6','M7','M8','M9']\n",
    "train_data_ratio = 0.8"
   ]
  },
  {
   "cell_type": "markdown",
   "metadata": {},
   "source": [
    "Based on the train/test ratio we assigned before, extact the IDs of test data. "
   ]
  },
  {
   "cell_type": "code",
   "execution_count": 4,
   "metadata": {},
   "outputs": [],
   "source": [
    "n_train = int(transaction_df.shape[0]*train_data_ratio)\n",
    "test_ids = transaction_df.TransactionID.values[n_train:]"
   ]
  },
  {
   "cell_type": "code",
   "execution_count": 5,
   "metadata": {},
   "outputs": [
    {
     "name": "stdout",
     "output_type": "stream",
     "text": [
      "Percent fraud for train transactions: 3.5135215226741625\n",
      "Percent fraud for test transactions: 3.4409184813899145\n",
      "Percent fraud for all transactions: 3.499000914417313\n"
     ]
    }
   ],
   "source": [
    "get_fraud_frac = lambda series: 100 * sum(series)/len(series)\n",
    "print(\"Percent fraud for train transactions: {}\".format(get_fraud_frac(transaction_df.isFraud[:n_train])))\n",
    "print(\"Percent fraud for test transactions: {}\".format(get_fraud_frac(transaction_df.isFraud[n_train:])))\n",
    "print(\"Percent fraud for all transactions: {}\".format(get_fraud_frac(transaction_df.isFraud)))"
   ]
  },
  {
   "cell_type": "markdown",
   "metadata": {},
   "source": [
    " Save test IDs into the `test.csv` file"
   ]
  },
  {
   "cell_type": "code",
   "execution_count": 6,
   "metadata": {},
   "outputs": [],
   "source": [
    "with open('data/test.csv', 'w') as f:\n",
    "    f.writelines(map(lambda x: str(x) + \"\\n\", test_ids))"
   ]
  },
  {
   "cell_type": "markdown",
   "metadata": {},
   "source": [
    "Based on the standard we talked about before, define non-feature-columns and feature-columns for creating graph."
   ]
  },
  {
   "cell_type": "code",
   "execution_count": 7,
   "metadata": {},
   "outputs": [
    {
     "name": "stdout",
     "output_type": "stream",
     "text": [
      "['isFraud', 'TransactionDT', 'card1', 'card2', 'card3', 'card4', 'card5', 'card6', 'ProductCD', 'addr1', 'addr2', 'P_emaildomain', 'R_emaildomain']\n"
     ]
    }
   ],
   "source": [
    "non_feature_cols = ['isFraud', 'TransactionDT'] + id_cols\n",
    "print(non_feature_cols)"
   ]
  },
  {
   "cell_type": "code",
   "execution_count": 8,
   "metadata": {},
   "outputs": [
    {
     "name": "stdout",
     "output_type": "stream",
     "text": [
      "['TransactionID', 'TransactionAmt', 'dist1', 'dist2', 'C1', 'C2', 'C3', 'C4', 'C5', 'C6', 'C7', 'C8', 'C9', 'C10', 'C11', 'C12', 'C13', 'C14', 'D1', 'D2', 'D3', 'D4', 'D5', 'D6', 'D7', 'D8', 'D9', 'D10', 'D11', 'D12', 'D13', 'D14', 'D15', 'M1', 'M2', 'M3', 'M4', 'M5', 'M6', 'M7', 'M8', 'M9', 'V1', 'V2', 'V3', 'V4', 'V5', 'V6', 'V7', 'V8', 'V9', 'V10', 'V11', 'V12', 'V13', 'V14', 'V15', 'V16', 'V17', 'V18', 'V19', 'V20', 'V21', 'V22', 'V23', 'V24', 'V25', 'V26', 'V27', 'V28', 'V29', 'V30', 'V31', 'V32', 'V33', 'V34', 'V35', 'V36', 'V37', 'V38', 'V39', 'V40', 'V41', 'V42', 'V43', 'V44', 'V45', 'V46', 'V47', 'V48', 'V49', 'V50', 'V51', 'V52', 'V53', 'V54', 'V55', 'V56', 'V57', 'V58', 'V59', 'V60', 'V61', 'V62', 'V63', 'V64', 'V65', 'V66', 'V67', 'V68', 'V69', 'V70', 'V71', 'V72', 'V73', 'V74', 'V75', 'V76', 'V77', 'V78', 'V79', 'V80', 'V81', 'V82', 'V83', 'V84', 'V85', 'V86', 'V87', 'V88', 'V89', 'V90', 'V91', 'V92', 'V93', 'V94', 'V95', 'V96', 'V97', 'V98', 'V99', 'V100', 'V101', 'V102', 'V103', 'V104', 'V105', 'V106', 'V107', 'V108', 'V109', 'V110', 'V111', 'V112', 'V113', 'V114', 'V115', 'V116', 'V117', 'V118', 'V119', 'V120', 'V121', 'V122', 'V123', 'V124', 'V125', 'V126', 'V127', 'V128', 'V129', 'V130', 'V131', 'V132', 'V133', 'V134', 'V135', 'V136', 'V137', 'V138', 'V139', 'V140', 'V141', 'V142', 'V143', 'V144', 'V145', 'V146', 'V147', 'V148', 'V149', 'V150', 'V151', 'V152', 'V153', 'V154', 'V155', 'V156', 'V157', 'V158', 'V159', 'V160', 'V161', 'V162', 'V163', 'V164', 'V165', 'V166', 'V167', 'V168', 'V169', 'V170', 'V171', 'V172', 'V173', 'V174', 'V175', 'V176', 'V177', 'V178', 'V179', 'V180', 'V181', 'V182', 'V183', 'V184', 'V185', 'V186', 'V187', 'V188', 'V189', 'V190', 'V191', 'V192', 'V193', 'V194', 'V195', 'V196', 'V197', 'V198', 'V199', 'V200', 'V201', 'V202', 'V203', 'V204', 'V205', 'V206', 'V207', 'V208', 'V209', 'V210', 'V211', 'V212', 'V213', 'V214', 'V215', 'V216', 'V217', 'V218', 'V219', 'V220', 'V221', 'V222', 'V223', 'V224', 'V225', 'V226', 'V227', 'V228', 'V229', 'V230', 'V231', 'V232', 'V233', 'V234', 'V235', 'V236', 'V237', 'V238', 'V239', 'V240', 'V241', 'V242', 'V243', 'V244', 'V245', 'V246', 'V247', 'V248', 'V249', 'V250', 'V251', 'V252', 'V253', 'V254', 'V255', 'V256', 'V257', 'V258', 'V259', 'V260', 'V261', 'V262', 'V263', 'V264', 'V265', 'V266', 'V267', 'V268', 'V269', 'V270', 'V271', 'V272', 'V273', 'V274', 'V275', 'V276', 'V277', 'V278', 'V279', 'V280', 'V281', 'V282', 'V283', 'V284', 'V285', 'V286', 'V287', 'V288', 'V289', 'V290', 'V291', 'V292', 'V293', 'V294', 'V295', 'V296', 'V297', 'V298', 'V299', 'V300', 'V301', 'V302', 'V303', 'V304', 'V305', 'V306', 'V307', 'V308', 'V309', 'V310', 'V311', 'V312', 'V313', 'V314', 'V315', 'V316', 'V317', 'V318', 'V319', 'V320', 'V321', 'V322', 'V323', 'V324', 'V325', 'V326', 'V327', 'V328', 'V329', 'V330', 'V331', 'V332', 'V333', 'V334', 'V335', 'V336', 'V337', 'V338', 'V339']\n"
     ]
    }
   ],
   "source": [
    "feature_cols = [col for col in transaction_df.columns if col not in non_feature_cols]\n",
    "print(feature_cols)"
   ]
  },
  {
   "cell_type": "markdown",
   "metadata": {},
   "source": [
    "Transfer categorical features to be dummy variables and scale the `TransactionAmt` feature by log10."
   ]
  },
  {
   "cell_type": "code",
   "execution_count": 9,
   "metadata": {},
   "outputs": [],
   "source": [
    "features = pd.get_dummies(transaction_df[feature_cols], columns=cat_cols).fillna(0)\n",
    "features['TransactionAmt'] = features['TransactionAmt'].apply(np.log10)"
   ]
  },
  {
   "cell_type": "code",
   "execution_count": 10,
   "metadata": {},
   "outputs": [
    {
     "data": {
      "text/plain": [
       "(590540, 391)"
      ]
     },
     "execution_count": 10,
     "metadata": {},
     "output_type": "execute_result"
    }
   ],
   "source": [
    "features.shape"
   ]
  },
  {
   "cell_type": "code",
   "execution_count": 11,
   "metadata": {},
   "outputs": [
    {
     "name": "stdout",
     "output_type": "stream",
     "text": [
      "['TransactionID', 'TransactionAmt', 'dist1', 'dist2', 'C1', 'C2', 'C3', 'C4', 'C5', 'C6', 'C7', 'C8', 'C9', 'C10', 'C11', 'C12', 'C13', 'C14', 'D1', 'D2', 'D3', 'D4', 'D5', 'D6', 'D7', 'D8', 'D9', 'D10', 'D11', 'D12', 'D13', 'D14', 'D15', 'V1', 'V2', 'V3', 'V4', 'V5', 'V6', 'V7', 'V8', 'V9', 'V10', 'V11', 'V12', 'V13', 'V14', 'V15', 'V16', 'V17', 'V18', 'V19', 'V20', 'V21', 'V22', 'V23', 'V24', 'V25', 'V26', 'V27', 'V28', 'V29', 'V30', 'V31', 'V32', 'V33', 'V34', 'V35', 'V36', 'V37', 'V38', 'V39', 'V40', 'V41', 'V42', 'V43', 'V44', 'V45', 'V46', 'V47', 'V48', 'V49', 'V50', 'V51', 'V52', 'V53', 'V54', 'V55', 'V56', 'V57', 'V58', 'V59', 'V60', 'V61', 'V62', 'V63', 'V64', 'V65', 'V66', 'V67', 'V68', 'V69', 'V70', 'V71', 'V72', 'V73', 'V74', 'V75', 'V76', 'V77', 'V78', 'V79', 'V80', 'V81', 'V82', 'V83', 'V84', 'V85', 'V86', 'V87', 'V88', 'V89', 'V90', 'V91', 'V92', 'V93', 'V94', 'V95', 'V96', 'V97', 'V98', 'V99', 'V100', 'V101', 'V102', 'V103', 'V104', 'V105', 'V106', 'V107', 'V108', 'V109', 'V110', 'V111', 'V112', 'V113', 'V114', 'V115', 'V116', 'V117', 'V118', 'V119', 'V120', 'V121', 'V122', 'V123', 'V124', 'V125', 'V126', 'V127', 'V128', 'V129', 'V130', 'V131', 'V132', 'V133', 'V134', 'V135', 'V136', 'V137', 'V138', 'V139', 'V140', 'V141', 'V142', 'V143', 'V144', 'V145', 'V146', 'V147', 'V148', 'V149', 'V150', 'V151', 'V152', 'V153', 'V154', 'V155', 'V156', 'V157', 'V158', 'V159', 'V160', 'V161', 'V162', 'V163', 'V164', 'V165', 'V166', 'V167', 'V168', 'V169', 'V170', 'V171', 'V172', 'V173', 'V174', 'V175', 'V176', 'V177', 'V178', 'V179', 'V180', 'V181', 'V182', 'V183', 'V184', 'V185', 'V186', 'V187', 'V188', 'V189', 'V190', 'V191', 'V192', 'V193', 'V194', 'V195', 'V196', 'V197', 'V198', 'V199', 'V200', 'V201', 'V202', 'V203', 'V204', 'V205', 'V206', 'V207', 'V208', 'V209', 'V210', 'V211', 'V212', 'V213', 'V214', 'V215', 'V216', 'V217', 'V218', 'V219', 'V220', 'V221', 'V222', 'V223', 'V224', 'V225', 'V226', 'V227', 'V228', 'V229', 'V230', 'V231', 'V232', 'V233', 'V234', 'V235', 'V236', 'V237', 'V238', 'V239', 'V240', 'V241', 'V242', 'V243', 'V244', 'V245', 'V246', 'V247', 'V248', 'V249', 'V250', 'V251', 'V252', 'V253', 'V254', 'V255', 'V256', 'V257', 'V258', 'V259', 'V260', 'V261', 'V262', 'V263', 'V264', 'V265', 'V266', 'V267', 'V268', 'V269', 'V270', 'V271', 'V272', 'V273', 'V274', 'V275', 'V276', 'V277', 'V278', 'V279', 'V280', 'V281', 'V282', 'V283', 'V284', 'V285', 'V286', 'V287', 'V288', 'V289', 'V290', 'V291', 'V292', 'V293', 'V294', 'V295', 'V296', 'V297', 'V298', 'V299', 'V300', 'V301', 'V302', 'V303', 'V304', 'V305', 'V306', 'V307', 'V308', 'V309', 'V310', 'V311', 'V312', 'V313', 'V314', 'V315', 'V316', 'V317', 'V318', 'V319', 'V320', 'V321', 'V322', 'V323', 'V324', 'V325', 'V326', 'V327', 'V328', 'V329', 'V330', 'V331', 'V332', 'V333', 'V334', 'V335', 'V336', 'V337', 'V338', 'V339', 'M1_F', 'M1_T', 'M2_F', 'M2_T', 'M3_F', 'M3_T', 'M4_M0', 'M4_M1', 'M4_M2', 'M5_F', 'M5_T', 'M6_F', 'M6_T', 'M7_F', 'M7_T', 'M8_F', 'M8_T', 'M9_F', 'M9_T']\n"
     ]
    }
   ],
   "source": [
    "print(list(features.columns))"
   ]
  },
  {
   "cell_type": "markdown",
   "metadata": {},
   "source": [
    "Save the features into `features.csv` for future training. \n",
    "\n",
    "p.s. We don't need the index column and header."
   ]
  },
  {
   "cell_type": "code",
   "execution_count": 12,
   "metadata": {},
   "outputs": [],
   "source": [
    "features.to_csv('data/features.csv', index=False, header=False)"
   ]
  },
  {
   "cell_type": "markdown",
   "metadata": {},
   "source": [
    "Save the IDs and label into the `tags.csv`."
   ]
  },
  {
   "cell_type": "code",
   "execution_count": 13,
   "metadata": {},
   "outputs": [],
   "source": [
    "transaction_df[['TransactionID', 'isFraud']].to_csv('data/tags_new.csv', index=False)"
   ]
  },
  {
   "cell_type": "markdown",
   "metadata": {},
   "source": [
    "Select the columns that define the edges."
   ]
  },
  {
   "cell_type": "code",
   "execution_count": 14,
   "metadata": {},
   "outputs": [
    {
     "name": "stdout",
     "output_type": "stream",
     "text": [
      "['card1', 'card2', 'card3', 'card4', 'card5', 'card6', 'ProductCD', 'addr1', 'addr2', 'P_emaildomain', 'R_emaildomain', 'TransactionID', 'id_01', 'id_02', 'id_03', 'id_04', 'id_05', 'id_06', 'id_07', 'id_08', 'id_09', 'id_10', 'id_11', 'id_12', 'id_13', 'id_14', 'id_15', 'id_16', 'id_17', 'id_18', 'id_19', 'id_20', 'id_21', 'id_22', 'id_23', 'id_24', 'id_25', 'id_26', 'id_27', 'id_28', 'id_29', 'id_30', 'id_31', 'id_32', 'id_33', 'id_34', 'id_35', 'id_36', 'id_37', 'id_38', 'DeviceType', 'DeviceInfo']\n"
     ]
    }
   ],
   "source": [
    "edge_types = id_cols + list(identity_df.columns)\n",
    "print(edge_types)"
   ]
  },
  {
   "cell_type": "code",
   "execution_count": null,
   "metadata": {},
   "outputs": [],
   "source": []
  },
  {
   "cell_type": "markdown",
   "metadata": {},
   "source": [
    "# HANDLING IMBALANCE DATA:"
   ]
  },
  {
   "cell_type": "code",
   "execution_count": 15,
   "metadata": {},
   "outputs": [
    {
     "data": {
      "text/html": [
       "<div>\n",
       "<style scoped>\n",
       "    .dataframe tbody tr th:only-of-type {\n",
       "        vertical-align: middle;\n",
       "    }\n",
       "\n",
       "    .dataframe tbody tr th {\n",
       "        vertical-align: top;\n",
       "    }\n",
       "\n",
       "    .dataframe thead th {\n",
       "        text-align: right;\n",
       "    }\n",
       "</style>\n",
       "<table border=\"1\" class=\"dataframe\">\n",
       "  <thead>\n",
       "    <tr style=\"text-align: right;\">\n",
       "      <th></th>\n",
       "      <th>TransactionID</th>\n",
       "      <th>isFraud</th>\n",
       "      <th>card1</th>\n",
       "      <th>card2</th>\n",
       "      <th>card3</th>\n",
       "      <th>card4</th>\n",
       "      <th>card5</th>\n",
       "      <th>card6</th>\n",
       "      <th>ProductCD</th>\n",
       "      <th>addr1</th>\n",
       "      <th>...</th>\n",
       "      <th>id_31</th>\n",
       "      <th>id_32</th>\n",
       "      <th>id_33</th>\n",
       "      <th>id_34</th>\n",
       "      <th>id_35</th>\n",
       "      <th>id_36</th>\n",
       "      <th>id_37</th>\n",
       "      <th>id_38</th>\n",
       "      <th>DeviceType</th>\n",
       "      <th>DeviceInfo</th>\n",
       "    </tr>\n",
       "  </thead>\n",
       "  <tbody>\n",
       "    <tr>\n",
       "      <th>0</th>\n",
       "      <td>2987000</td>\n",
       "      <td>0</td>\n",
       "      <td>13926</td>\n",
       "      <td>NaN</td>\n",
       "      <td>150.0</td>\n",
       "      <td>discover</td>\n",
       "      <td>142.0</td>\n",
       "      <td>credit</td>\n",
       "      <td>W</td>\n",
       "      <td>315.0</td>\n",
       "      <td>...</td>\n",
       "      <td>NaN</td>\n",
       "      <td>NaN</td>\n",
       "      <td>NaN</td>\n",
       "      <td>NaN</td>\n",
       "      <td>NaN</td>\n",
       "      <td>NaN</td>\n",
       "      <td>NaN</td>\n",
       "      <td>NaN</td>\n",
       "      <td>NaN</td>\n",
       "      <td>NaN</td>\n",
       "    </tr>\n",
       "    <tr>\n",
       "      <th>1</th>\n",
       "      <td>2987001</td>\n",
       "      <td>0</td>\n",
       "      <td>2755</td>\n",
       "      <td>404.0</td>\n",
       "      <td>150.0</td>\n",
       "      <td>mastercard</td>\n",
       "      <td>102.0</td>\n",
       "      <td>credit</td>\n",
       "      <td>W</td>\n",
       "      <td>325.0</td>\n",
       "      <td>...</td>\n",
       "      <td>NaN</td>\n",
       "      <td>NaN</td>\n",
       "      <td>NaN</td>\n",
       "      <td>NaN</td>\n",
       "      <td>NaN</td>\n",
       "      <td>NaN</td>\n",
       "      <td>NaN</td>\n",
       "      <td>NaN</td>\n",
       "      <td>NaN</td>\n",
       "      <td>NaN</td>\n",
       "    </tr>\n",
       "    <tr>\n",
       "      <th>2</th>\n",
       "      <td>2987002</td>\n",
       "      <td>0</td>\n",
       "      <td>4663</td>\n",
       "      <td>490.0</td>\n",
       "      <td>150.0</td>\n",
       "      <td>visa</td>\n",
       "      <td>166.0</td>\n",
       "      <td>debit</td>\n",
       "      <td>W</td>\n",
       "      <td>330.0</td>\n",
       "      <td>...</td>\n",
       "      <td>NaN</td>\n",
       "      <td>NaN</td>\n",
       "      <td>NaN</td>\n",
       "      <td>NaN</td>\n",
       "      <td>NaN</td>\n",
       "      <td>NaN</td>\n",
       "      <td>NaN</td>\n",
       "      <td>NaN</td>\n",
       "      <td>NaN</td>\n",
       "      <td>NaN</td>\n",
       "    </tr>\n",
       "    <tr>\n",
       "      <th>3</th>\n",
       "      <td>2987003</td>\n",
       "      <td>0</td>\n",
       "      <td>18132</td>\n",
       "      <td>567.0</td>\n",
       "      <td>150.0</td>\n",
       "      <td>mastercard</td>\n",
       "      <td>117.0</td>\n",
       "      <td>debit</td>\n",
       "      <td>W</td>\n",
       "      <td>476.0</td>\n",
       "      <td>...</td>\n",
       "      <td>NaN</td>\n",
       "      <td>NaN</td>\n",
       "      <td>NaN</td>\n",
       "      <td>NaN</td>\n",
       "      <td>NaN</td>\n",
       "      <td>NaN</td>\n",
       "      <td>NaN</td>\n",
       "      <td>NaN</td>\n",
       "      <td>NaN</td>\n",
       "      <td>NaN</td>\n",
       "    </tr>\n",
       "    <tr>\n",
       "      <th>4</th>\n",
       "      <td>2987004</td>\n",
       "      <td>0</td>\n",
       "      <td>4497</td>\n",
       "      <td>514.0</td>\n",
       "      <td>150.0</td>\n",
       "      <td>mastercard</td>\n",
       "      <td>102.0</td>\n",
       "      <td>credit</td>\n",
       "      <td>H</td>\n",
       "      <td>420.0</td>\n",
       "      <td>...</td>\n",
       "      <td>samsung browser 6.2</td>\n",
       "      <td>32.0</td>\n",
       "      <td>2220x1080</td>\n",
       "      <td>match_status:2</td>\n",
       "      <td>T</td>\n",
       "      <td>F</td>\n",
       "      <td>T</td>\n",
       "      <td>T</td>\n",
       "      <td>mobile</td>\n",
       "      <td>SAMSUNG SM-G892A Build/NRD90M</td>\n",
       "    </tr>\n",
       "  </tbody>\n",
       "</table>\n",
       "<p>5 rows × 53 columns</p>\n",
       "</div>"
      ],
      "text/plain": [
       "   TransactionID  isFraud  card1  card2  card3       card4  card5   card6  \\\n",
       "0        2987000        0  13926    NaN  150.0    discover  142.0  credit   \n",
       "1        2987001        0   2755  404.0  150.0  mastercard  102.0  credit   \n",
       "2        2987002        0   4663  490.0  150.0        visa  166.0   debit   \n",
       "3        2987003        0  18132  567.0  150.0  mastercard  117.0   debit   \n",
       "4        2987004        0   4497  514.0  150.0  mastercard  102.0  credit   \n",
       "\n",
       "  ProductCD  addr1  ...                id_31 id_32      id_33           id_34  \\\n",
       "0         W  315.0  ...                  NaN   NaN        NaN             NaN   \n",
       "1         W  325.0  ...                  NaN   NaN        NaN             NaN   \n",
       "2         W  330.0  ...                  NaN   NaN        NaN             NaN   \n",
       "3         W  476.0  ...                  NaN   NaN        NaN             NaN   \n",
       "4         H  420.0  ...  samsung browser 6.2  32.0  2220x1080  match_status:2   \n",
       "\n",
       "   id_35  id_36  id_37  id_38  DeviceType                     DeviceInfo  \n",
       "0    NaN    NaN    NaN    NaN         NaN                            NaN  \n",
       "1    NaN    NaN    NaN    NaN         NaN                            NaN  \n",
       "2    NaN    NaN    NaN    NaN         NaN                            NaN  \n",
       "3    NaN    NaN    NaN    NaN         NaN                            NaN  \n",
       "4      T      F      T      T      mobile  SAMSUNG SM-G892A Build/NRD90M  \n",
       "\n",
       "[5 rows x 53 columns]"
      ]
     },
     "execution_count": 15,
     "metadata": {},
     "output_type": "execute_result"
    }
   ],
   "source": [
    "all_id_cols = ['TransactionID'] +['isFraud']+ id_cols\n",
    "full_identity_df = transaction_df[all_id_cols].merge(identity_df, on='TransactionID', how='left')\n",
    "full_identity_df.head(5)"
   ]
  },
  {
   "cell_type": "code",
   "execution_count": 16,
   "metadata": {},
   "outputs": [
    {
     "data": {
      "text/plain": [
       "<Axes: xlabel='isFraud', ylabel='count'>"
      ]
     },
     "execution_count": 16,
     "metadata": {},
     "output_type": "execute_result"
    },
    {
     "data": {
      "image/png": "[encoded data removed]",
      "text/plain": [
       "<Figure size 640x480 with 1 Axes>"
      ]
     },
     "metadata": {},
     "output_type": "display_data"
    }
   ],
   "source": [
    "sns.countplot(x=full_identity_df[\"isFraud\"],  palette = \"Set2\")"
   ]
  },
  {
   "cell_type": "markdown",
   "metadata": {},
   "source": [
    "From above count_plot we can say that dataset is unbalanced.\n",
    "Lets perform undersampling for isFraud=0 & SMOTE for for isFraud=1"
   ]
  },
  {
   "cell_type": "code",
   "execution_count": 17,
   "metadata": {},
   "outputs": [],
   "source": [
    "from imblearn import under_sampling"
   ]
  },
  {
   "cell_type": "code",
   "execution_count": 18,
   "metadata": {},
   "outputs": [],
   "source": [
    "undsam_df=full_identity_df\n",
    "X=undsam_df\n",
    "Y=undsam_df['isFraud']"
   ]
  },
  {
   "cell_type": "code",
   "execution_count": 19,
   "metadata": {},
   "outputs": [],
   "source": [
    "X.drop('isFraud', axis=1,inplace=True)"
   ]
  },
  {
   "cell_type": "code",
   "execution_count": 20,
   "metadata": {},
   "outputs": [
    {
     "name": "stdout",
     "output_type": "stream",
     "text": [
      "0    20663\n",
      "1    20663\n",
      "Name: isFraud, dtype: int64 (41326,)\n"
     ]
    }
   ],
   "source": [
    "from imblearn.under_sampling import RandomUnderSampler\n",
    "rus=RandomUnderSampler(random_state=0)\n",
    "x1,y1=rus.fit_resample(X,Y)\n",
    "print(y1.value_counts(),y1.shape)"
   ]
  },
  {
   "cell_type": "code",
   "execution_count": 21,
   "metadata": {},
   "outputs": [
    {
     "data": {
      "text/plain": [
       "(41326, 52)"
      ]
     },
     "execution_count": 21,
     "metadata": {},
     "output_type": "execute_result"
    }
   ],
   "source": [
    "x1.shape"
   ]
  },
  {
   "cell_type": "code",
   "execution_count": 22,
   "metadata": {},
   "outputs": [],
   "source": [
    "full_identity_df=x1"
   ]
  },
  {
   "cell_type": "markdown",
   "metadata": {},
   "source": [
    "For each identity feature, save the data into the corresponding `relation_{FEATURE NAME}_edgelist.csv`. Each csv file represents one kind of edge."
   ]
  },
  {
   "cell_type": "code",
   "execution_count": 23,
   "metadata": {},
   "outputs": [
    {
     "name": "stdout",
     "output_type": "stream",
     "text": [
      "{'card1':        TransactionID  card1\n",
      "0            3491145   3508\n",
      "1            2990379   8830\n",
      "2            3219993  12718\n",
      "3            2987873  12883\n",
      "4            3019692  12779\n",
      "...              ...    ...\n",
      "41321        3577361   3278\n",
      "41322        3577364   5812\n",
      "41323        3577368   6758\n",
      "41324        3577372  14037\n",
      "41325        3577526   1214\n",
      "\n",
      "[41326 rows x 2 columns], 'card2':        TransactionID  card2\n",
      "0            3491145  514.0\n",
      "1            2990379  250.0\n",
      "2            3219993  367.0\n",
      "3            2987873  404.0\n",
      "4            3019692  100.0\n",
      "...              ...    ...\n",
      "41321        3577361  453.0\n",
      "41322        3577364  408.0\n",
      "41323        3577368  399.0\n",
      "41324        3577372  111.0\n",
      "41325        3577526  174.0\n",
      "\n",
      "[40602 rows x 2 columns], 'card3':        TransactionID  card3\n",
      "0            3491145  150.0\n",
      "1            2990379  150.0\n",
      "2            3219993  150.0\n",
      "3            2987873  150.0\n",
      "4            3019692  150.0\n",
      "...              ...    ...\n",
      "41321        3577361  150.0\n",
      "41322        3577364  185.0\n",
      "41323        3577368  150.0\n",
      "41324        3577372  150.0\n",
      "41325        3577526  150.0\n",
      "\n",
      "[41235 rows x 2 columns], 'card4':        TransactionID             card4\n",
      "0            3491145        mastercard\n",
      "1            2990379              visa\n",
      "2            3219993        mastercard\n",
      "3            2987873              visa\n",
      "4            3019692              visa\n",
      "...              ...               ...\n",
      "41321        3577361              visa\n",
      "41322        3577364        mastercard\n",
      "41323        3577368  american express\n",
      "41324        3577372              visa\n",
      "41325        3577526              visa\n",
      "\n",
      "[41233 rows x 2 columns], 'card5':        TransactionID  card5\n",
      "0            3491145  224.0\n",
      "1            2990379  226.0\n",
      "2            3219993  224.0\n",
      "3            2987873  226.0\n",
      "4            3019692  226.0\n",
      "...              ...    ...\n",
      "41321        3577361  226.0\n",
      "41322        3577364  224.0\n",
      "41323        3577368  146.0\n",
      "41324        3577372  226.0\n",
      "41325        3577526  226.0\n",
      "\n",
      "[40970 rows x 2 columns], 'card6':        TransactionID   card6\n",
      "0            3491145   debit\n",
      "1            2990379  credit\n",
      "2            3219993  credit\n",
      "3            2987873  credit\n",
      "4            3019692  credit\n",
      "...              ...     ...\n",
      "41321        3577361   debit\n",
      "41322        3577364   debit\n",
      "41323        3577368  credit\n",
      "41324        3577372  credit\n",
      "41325        3577526  credit\n",
      "\n",
      "[41235 rows x 2 columns], 'ProductCD':        TransactionID ProductCD\n",
      "0            3491145         W\n",
      "1            2990379         S\n",
      "2            3219993         W\n",
      "3            2987873         H\n",
      "4            3019692         H\n",
      "...              ...       ...\n",
      "41321        3577361         W\n",
      "41322        3577364         C\n",
      "41323        3577368         H\n",
      "41324        3577372         W\n",
      "41325        3577526         R\n",
      "\n",
      "[41326 rows x 2 columns], 'addr1':        TransactionID  addr1\n",
      "0            3491145  494.0\n",
      "1            2990379  441.0\n",
      "2            3219993  264.0\n",
      "3            2987873  433.0\n",
      "4            3019692  191.0\n",
      "...              ...    ...\n",
      "41318        3577350  324.0\n",
      "41321        3577361  191.0\n",
      "41323        3577368  299.0\n",
      "41324        3577372  272.0\n",
      "41325        3577526  272.0\n",
      "\n",
      "[31540 rows x 2 columns], 'addr2':        TransactionID  addr2\n",
      "0            3491145   87.0\n",
      "1            2990379   87.0\n",
      "2            3219993   87.0\n",
      "3            2987873   87.0\n",
      "4            3019692   87.0\n",
      "...              ...    ...\n",
      "41318        3577350   87.0\n",
      "41321        3577361   87.0\n",
      "41323        3577368   87.0\n",
      "41324        3577372   87.0\n",
      "41325        3577526   87.0\n",
      "\n",
      "[31540 rows x 2 columns], 'P_emaildomain':        TransactionID P_emaildomain\n",
      "0            3491145     gmail.com\n",
      "3            2987873     gmail.com\n",
      "4            3019692       aol.com\n",
      "5            3034488     gmail.com\n",
      "6            3038182     gmail.com\n",
      "...              ...           ...\n",
      "41321        3577361     yahoo.com\n",
      "41322        3577364   hotmail.com\n",
      "41323        3577368   hotmail.com\n",
      "41324        3577372     yahoo.com\n",
      "41325        3577526     gmail.com\n",
      "\n",
      "[35177 rows x 2 columns], 'R_emaildomain':        TransactionID  R_emaildomain\n",
      "1            2990379     icloud.com\n",
      "5            3034488      gmail.com\n",
      "6            3038182  anonymous.com\n",
      "7            3076814    comcast.net\n",
      "8            3085145    hotmail.com\n",
      "...              ...            ...\n",
      "41319        3577351      gmail.com\n",
      "41320        3577354      gmail.com\n",
      "41322        3577364    hotmail.com\n",
      "41323        3577368    hotmail.com\n",
      "41325        3577526      gmail.com\n",
      "\n",
      "[15713 rows x 2 columns], 'TransactionID':        TransactionID  TransactionID\n",
      "0            3491145        3491145\n",
      "1            2990379        2990379\n",
      "2            3219993        3219993\n",
      "3            2987873        2987873\n",
      "4            3019692        3019692\n",
      "...              ...            ...\n",
      "41321        3577361        3577361\n",
      "41322        3577364        3577364\n",
      "41323        3577368        3577368\n",
      "41324        3577372        3577372\n",
      "41325        3577526        3577526\n",
      "\n",
      "[41326 rows x 2 columns], 'id_01':        TransactionID  id_01\n",
      "1            2990379   -5.0\n",
      "3            2987873   -5.0\n",
      "4            3019692    0.0\n",
      "5            3034488    0.0\n",
      "6            3038182  -15.0\n",
      "...              ...    ...\n",
      "41319        3577351  -20.0\n",
      "41320        3577354  -25.0\n",
      "41322        3577364   -5.0\n",
      "41323        3577368   -5.0\n",
      "41325        3577526   -5.0\n",
      "\n",
      "[16055 rows x 2 columns], 'id_02':        TransactionID     id_02\n",
      "1            2990379  105193.0\n",
      "3            2987873   75949.0\n",
      "4            3019692   31285.0\n",
      "5            3034488   18645.0\n",
      "7            3076814  368139.0\n",
      "...              ...       ...\n",
      "41319        3577351  190267.0\n",
      "41320        3577354  229668.0\n",
      "41322        3577364  183132.0\n",
      "41323        3577368  214747.0\n",
      "41325        3577526  172059.0\n",
      "\n",
      "[15843 rows x 2 columns], 'id_03':        TransactionID  id_03\n",
      "1            2990379    0.0\n",
      "3            2987873    0.0\n",
      "4            3019692    0.0\n",
      "5            3034488    0.0\n",
      "7            3076814    0.0\n",
      "...              ...    ...\n",
      "41307        3577087    0.0\n",
      "41309        3577092    0.0\n",
      "41310        3577103    0.0\n",
      "41311        3577147    0.0\n",
      "41320        3577354    0.0\n",
      "\n",
      "[9195 rows x 2 columns], 'id_04':        TransactionID  id_04\n",
      "1            2990379    0.0\n",
      "3            2987873    0.0\n",
      "4            3019692    0.0\n",
      "5            3034488    0.0\n",
      "7            3076814    0.0\n",
      "...              ...    ...\n",
      "41307        3577087    0.0\n",
      "41309        3577092    0.0\n",
      "41310        3577103    0.0\n",
      "41311        3577147    0.0\n",
      "41320        3577354    0.0\n",
      "\n",
      "[9195 rows x 2 columns], 'id_05':        TransactionID  id_05\n",
      "1            2990379    9.0\n",
      "3            2987873    0.0\n",
      "4            3019692    0.0\n",
      "5            3034488    0.0\n",
      "7            3076814    1.0\n",
      "...              ...    ...\n",
      "41319        3577351   -5.0\n",
      "41320        3577354   -5.0\n",
      "41322        3577364    0.0\n",
      "41323        3577368    0.0\n",
      "41325        3577526    1.0\n",
      "\n",
      "[15479 rows x 2 columns], 'id_06':        TransactionID  id_06\n",
      "1            2990379    0.0\n",
      "3            2987873    0.0\n",
      "4            3019692    0.0\n",
      "5            3034488    0.0\n",
      "7            3076814    0.0\n",
      "...              ...    ...\n",
      "41319        3577351  -20.0\n",
      "41320        3577354  -20.0\n",
      "41322        3577364    0.0\n",
      "41323        3577368    0.0\n",
      "41325        3577526   -5.0\n",
      "\n",
      "[15479 rows x 2 columns], 'id_07':        TransactionID  id_07\n",
      "155          3487708   18.0\n",
      "316          3262775   23.0\n",
      "678          3261019   42.0\n",
      "789          3050667   13.0\n",
      "792          3154822   16.0\n",
      "...              ...    ...\n",
      "41155        3573728    7.0\n",
      "41202        3574676   -9.0\n",
      "41203        3574684   -9.0\n",
      "41204        3574685   -9.0\n",
      "41205        3574692  -10.0\n",
      "\n",
      "[600 rows x 2 columns], 'id_08':        TransactionID  id_08\n",
      "155          3487708  -57.0\n",
      "316          3262775 -100.0\n",
      "678          3261019  -31.0\n",
      "789          3050667  -54.0\n",
      "792          3154822  -21.0\n",
      "...              ...    ...\n",
      "41155        3573728  -48.0\n",
      "41202        3574676  -43.0\n",
      "41203        3574684  -43.0\n",
      "41204        3574685  -43.0\n",
      "41205        3574692  -43.0\n",
      "\n",
      "[600 rows x 2 columns], 'id_09':        TransactionID  id_09\n",
      "1            2990379    0.0\n",
      "3            2987873    0.0\n",
      "4            3019692    0.0\n",
      "5            3034488    0.0\n",
      "7            3076814    0.0\n",
      "...              ...    ...\n",
      "41307        3577087    0.0\n",
      "41309        3577092    0.0\n",
      "41310        3577103    0.0\n",
      "41311        3577147    0.0\n",
      "41320        3577354    0.0\n",
      "\n",
      "[10198 rows x 2 columns], 'id_10':        TransactionID  id_10\n",
      "1            2990379    0.0\n",
      "3            2987873    0.0\n",
      "4            3019692    0.0\n",
      "5            3034488    0.0\n",
      "7            3076814    0.0\n",
      "...              ...    ...\n",
      "41307        3577087    0.0\n",
      "41309        3577092    0.0\n",
      "41310        3577103    0.0\n",
      "41311        3577147    0.0\n",
      "41320        3577354    0.0\n",
      "\n",
      "[10198 rows x 2 columns], 'id_11':        TransactionID  id_11\n",
      "1            2990379  100.0\n",
      "3            2987873  100.0\n",
      "4            3019692  100.0\n",
      "5            3034488  100.0\n",
      "7            3076814  100.0\n",
      "...              ...    ...\n",
      "41319        3577351  100.0\n",
      "41320        3577354  100.0\n",
      "41322        3577364  100.0\n",
      "41323        3577368  100.0\n",
      "41325        3577526  100.0\n",
      "\n",
      "[15839 rows x 2 columns], 'id_12':        TransactionID     id_12\n",
      "1            2990379     Found\n",
      "3            2987873  NotFound\n",
      "4            3019692  NotFound\n",
      "5            3034488  NotFound\n",
      "6            3038182  NotFound\n",
      "...              ...       ...\n",
      "41319        3577351  NotFound\n",
      "41320        3577354  NotFound\n",
      "41322        3577364  NotFound\n",
      "41323        3577368  NotFound\n",
      "41325        3577526  NotFound\n",
      "\n",
      "[16055 rows x 2 columns], 'id_13':        TransactionID  id_13\n",
      "1            2990379   52.0\n",
      "3            2987873   52.0\n",
      "6            3038182   14.0\n",
      "7            3076814   49.0\n",
      "8            3085145   49.0\n",
      "...              ...    ...\n",
      "41319        3577351   27.0\n",
      "41320        3577354   27.0\n",
      "41322        3577364   27.0\n",
      "41323        3577368   27.0\n",
      "41325        3577526   27.0\n",
      "\n",
      "[14773 rows x 2 columns], 'id_14':        TransactionID  id_14\n",
      "1            2990379 -300.0\n",
      "3            2987873 -360.0\n",
      "4            3019692 -300.0\n",
      "5            3034488 -360.0\n",
      "7            3076814 -420.0\n",
      "...              ...    ...\n",
      "41302        3577007 -300.0\n",
      "41303        3577015 -300.0\n",
      "41317        3577347 -300.0\n",
      "41323        3577368 -420.0\n",
      "41325        3577526 -300.0\n",
      "\n",
      "[6336 rows x 2 columns], 'id_15':        TransactionID  id_15\n",
      "1            2990379  Found\n",
      "3            2987873  Found\n",
      "4            3019692  Found\n",
      "5            3034488  Found\n",
      "7            3076814  Found\n",
      "...              ...    ...\n",
      "41319        3577351    New\n",
      "41320        3577354  Found\n",
      "41322        3577364    New\n",
      "41323        3577368    New\n",
      "41325        3577526    New\n",
      "\n",
      "[15843 rows x 2 columns], 'id_16':        TransactionID     id_16\n",
      "1            2990379     Found\n",
      "3            2987873     Found\n",
      "4            3019692     Found\n",
      "5            3034488     Found\n",
      "7            3076814     Found\n",
      "...              ...       ...\n",
      "41319        3577351  NotFound\n",
      "41320        3577354     Found\n",
      "41322        3577364  NotFound\n",
      "41323        3577368  NotFound\n",
      "41325        3577526  NotFound\n",
      "\n",
      "[14383 rows x 2 columns], 'id_17':        TransactionID  id_17\n",
      "1            2990379  166.0\n",
      "3            2987873  166.0\n",
      "4            3019692  166.0\n",
      "5            3034488  166.0\n",
      "7            3076814  166.0\n",
      "...              ...    ...\n",
      "41319        3577351  225.0\n",
      "41320        3577354  225.0\n",
      "41322        3577364  225.0\n",
      "41323        3577368  166.0\n",
      "41325        3577526  166.0\n",
      "\n",
      "[15623 rows x 2 columns], 'id_18':        TransactionID  id_18\n",
      "7            3076814   12.0\n",
      "8            3085145   15.0\n",
      "14           3008533   15.0\n",
      "17           3030479   13.0\n",
      "41           3393152   15.0\n",
      "...              ...    ...\n",
      "41252        3575649   17.0\n",
      "41279        3576629   15.0\n",
      "41319        3577351   15.0\n",
      "41320        3577354   15.0\n",
      "41325        3577526   15.0\n",
      "\n",
      "[5188 rows x 2 columns], 'id_19':        TransactionID  id_19\n",
      "1            2990379  529.0\n",
      "3            2987873  548.0\n",
      "4            3019692  193.0\n",
      "5            3034488  621.0\n",
      "7            3076814  542.0\n",
      "...              ...    ...\n",
      "41319        3577351  417.0\n",
      "41320        3577354  417.0\n",
      "41322        3577364  266.0\n",
      "41323        3577368  492.0\n",
      "41325        3577526  352.0\n",
      "\n",
      "[15614 rows x 2 columns], 'id_20':        TransactionID  id_20\n",
      "1            2990379  161.0\n",
      "3            2987873  100.0\n",
      "4            3019692  280.0\n",
      "5            3034488  186.0\n",
      "7            3076814  153.0\n",
      "...              ...    ...\n",
      "41319        3577351  612.0\n",
      "41320        3577354  612.0\n",
      "41322        3577364  315.0\n",
      "41323        3577368  225.0\n",
      "41325        3577526  333.0\n",
      "\n",
      "[15602 rows x 2 columns], 'id_21':        TransactionID  id_21\n",
      "155          3487708  228.0\n",
      "316          3262775  228.0\n",
      "678          3261019  252.0\n",
      "789          3050667  252.0\n",
      "792          3154822  353.0\n",
      "...              ...    ...\n",
      "41155        3573728  252.0\n",
      "41202        3574676  286.0\n",
      "41203        3574684  286.0\n",
      "41204        3574685  286.0\n",
      "41205        3574692  286.0\n",
      "\n",
      "[599 rows x 2 columns], 'id_22':        TransactionID  id_22\n",
      "155          3487708   14.0\n",
      "316          3262775   14.0\n",
      "678          3261019   14.0\n",
      "789          3050667   14.0\n",
      "792          3154822   14.0\n",
      "...              ...    ...\n",
      "41155        3573728   14.0\n",
      "41202        3574676   14.0\n",
      "41203        3574684   14.0\n",
      "41204        3574685   14.0\n",
      "41205        3574692   14.0\n",
      "\n",
      "[600 rows x 2 columns], 'id_23':        TransactionID                 id_23\n",
      "155          3487708  IP_PROXY:TRANSPARENT\n",
      "316          3262775       IP_PROXY:HIDDEN\n",
      "678          3261019  IP_PROXY:TRANSPARENT\n",
      "789          3050667  IP_PROXY:TRANSPARENT\n",
      "792          3154822  IP_PROXY:TRANSPARENT\n",
      "...              ...                   ...\n",
      "41155        3573728  IP_PROXY:TRANSPARENT\n",
      "41202        3574676    IP_PROXY:ANONYMOUS\n",
      "41203        3574684    IP_PROXY:ANONYMOUS\n",
      "41204        3574685    IP_PROXY:ANONYMOUS\n",
      "41205        3574692    IP_PROXY:ANONYMOUS\n",
      "\n",
      "[600 rows x 2 columns], 'id_24':        TransactionID  id_24\n",
      "155          3487708   11.0\n",
      "316          3262775   11.0\n",
      "678          3261019   11.0\n",
      "789          3050667   11.0\n",
      "792          3154822   15.0\n",
      "...              ...    ...\n",
      "41155        3573728   24.0\n",
      "41202        3574676   11.0\n",
      "41203        3574684   11.0\n",
      "41204        3574685   11.0\n",
      "41205        3574692   11.0\n",
      "\n",
      "[563 rows x 2 columns], 'id_25':        TransactionID  id_25\n",
      "155          3487708  426.0\n",
      "316          3262775  426.0\n",
      "678          3261019  321.0\n",
      "789          3050667  321.0\n",
      "792          3154822  170.0\n",
      "...              ...    ...\n",
      "41155        3573728  321.0\n",
      "41202        3574676  463.0\n",
      "41203        3574684  463.0\n",
      "41204        3574685  463.0\n",
      "41205        3574692  463.0\n",
      "\n",
      "[590 rows x 2 columns], 'id_26':        TransactionID  id_26\n",
      "155          3487708  147.0\n",
      "316          3262775  161.0\n",
      "678          3261019  169.0\n",
      "789          3050667  161.0\n",
      "792          3154822  190.0\n",
      "...              ...    ...\n",
      "41155        3573728  169.0\n",
      "41202        3574676  184.0\n",
      "41203        3574684  184.0\n",
      "41204        3574685  184.0\n",
      "41205        3574692  184.0\n",
      "\n",
      "[599 rows x 2 columns], 'id_27':        TransactionID  id_27\n",
      "155          3487708  Found\n",
      "316          3262775  Found\n",
      "678          3261019  Found\n",
      "789          3050667  Found\n",
      "792          3154822  Found\n",
      "...              ...    ...\n",
      "41155        3573728  Found\n",
      "41202        3574676  Found\n",
      "41203        3574684  Found\n",
      "41204        3574685  Found\n",
      "41205        3574692  Found\n",
      "\n",
      "[600 rows x 2 columns], 'id_28':        TransactionID  id_28\n",
      "1            2990379  Found\n",
      "3            2987873  Found\n",
      "4            3019692  Found\n",
      "5            3034488  Found\n",
      "7            3076814  Found\n",
      "...              ...    ...\n",
      "41319        3577351    New\n",
      "41320        3577354  Found\n",
      "41322        3577364    New\n",
      "41323        3577368    New\n",
      "41325        3577526    New\n",
      "\n",
      "[15839 rows x 2 columns], 'id_29':        TransactionID     id_29\n",
      "1            2990379     Found\n",
      "3            2987873     Found\n",
      "4            3019692     Found\n",
      "5            3034488     Found\n",
      "7            3076814     Found\n",
      "...              ...       ...\n",
      "41319        3577351  NotFound\n",
      "41320        3577354     Found\n",
      "41322        3577364  NotFound\n",
      "41323        3577368  NotFound\n",
      "41325        3577526  NotFound\n",
      "\n",
      "[15839 rows x 2 columns], 'id_30':        TransactionID             id_30\n",
      "1            2990379         Windows 7\n",
      "3            2987873        Windows 10\n",
      "4            3019692        iOS 10.3.3\n",
      "5            3034488  Mac OS X 10_12_6\n",
      "7            3076814   Mac OS X 10_9_5\n",
      "...              ...               ...\n",
      "41302        3577007  Mac OS X 10_10_5\n",
      "41303        3577015  Mac OS X 10_10_5\n",
      "41317        3577347        Windows 10\n",
      "41323        3577368        iOS 11.3.0\n",
      "41325        3577526     Android 7.1.1\n",
      "\n",
      "[6121 rows x 2 columns], 'id_31':        TransactionID                    id_31\n",
      "1            2990379              chrome 62.0\n",
      "3            2987873              chrome 62.0\n",
      "4            3019692       mobile safari 10.0\n",
      "5            3034488              chrome 62.0\n",
      "7            3076814              chrome 63.0\n",
      "...              ...                      ...\n",
      "41319        3577351  chrome 66.0 for android\n",
      "41320        3577354  chrome 66.0 for android\n",
      "41322        3577364      samsung browser 6.4\n",
      "41323        3577368       mobile safari 11.0\n",
      "41325        3577526  chrome 55.0 for android\n",
      "\n",
      "[15778 rows x 2 columns], 'id_32':        TransactionID  id_32\n",
      "1            2990379   24.0\n",
      "3            2987873   24.0\n",
      "4            3019692   32.0\n",
      "5            3034488   24.0\n",
      "7            3076814   24.0\n",
      "...              ...    ...\n",
      "41302        3577007   24.0\n",
      "41303        3577015   24.0\n",
      "41317        3577347   24.0\n",
      "41323        3577368   32.0\n",
      "41325        3577526   32.0\n",
      "\n",
      "[6130 rows x 2 columns], 'id_33':        TransactionID      id_33\n",
      "1            2990379  1280x1024\n",
      "3            2987873   1366x768\n",
      "4            3019692  2048x1536\n",
      "5            3034488  2560x1440\n",
      "7            3076814   1024x640\n",
      "...              ...        ...\n",
      "41302        3577007   1280x800\n",
      "41303        3577015   1280x800\n",
      "41317        3577347  1600x1200\n",
      "41323        3577368  2208x1242\n",
      "41325        3577526    855x480\n",
      "\n",
      "[5873 rows x 2 columns], 'id_34':        TransactionID           id_34\n",
      "1            2990379  match_status:2\n",
      "3            2987873  match_status:2\n",
      "4            3019692  match_status:1\n",
      "5            3034488  match_status:2\n",
      "7            3076814  match_status:2\n",
      "...              ...             ...\n",
      "41302        3577007  match_status:2\n",
      "41303        3577015  match_status:2\n",
      "41317        3577347  match_status:2\n",
      "41323        3577368  match_status:1\n",
      "41325        3577526  match_status:2\n",
      "\n",
      "[6150 rows x 2 columns], 'id_35':        TransactionID id_35\n",
      "1            2990379     T\n",
      "3            2987873     T\n",
      "4            3019692     T\n",
      "5            3034488     T\n",
      "7            3076814     T\n",
      "...              ...   ...\n",
      "41319        3577351     F\n",
      "41320        3577354     F\n",
      "41322        3577364     F\n",
      "41323        3577368     T\n",
      "41325        3577526     T\n",
      "\n",
      "[15843 rows x 2 columns], 'id_36':        TransactionID id_36\n",
      "1            2990379     F\n",
      "3            2987873     F\n",
      "4            3019692     F\n",
      "5            3034488     F\n",
      "7            3076814     F\n",
      "...              ...   ...\n",
      "41319        3577351     F\n",
      "41320        3577354     F\n",
      "41322        3577364     F\n",
      "41323        3577368     F\n",
      "41325        3577526     F\n",
      "\n",
      "[15843 rows x 2 columns], 'id_37':        TransactionID id_37\n",
      "1            2990379     T\n",
      "3            2987873     T\n",
      "4            3019692     T\n",
      "5            3034488     T\n",
      "7            3076814     T\n",
      "...              ...   ...\n",
      "41319        3577351     T\n",
      "41320        3577354     T\n",
      "41322        3577364     T\n",
      "41323        3577368     F\n",
      "41325        3577526     T\n",
      "\n",
      "[15843 rows x 2 columns], 'id_38':        TransactionID id_38\n",
      "1            2990379     T\n",
      "3            2987873     T\n",
      "4            3019692     T\n",
      "5            3034488     T\n",
      "7            3076814     F\n",
      "...              ...   ...\n",
      "41319        3577351     F\n",
      "41320        3577354     F\n",
      "41322        3577364     F\n",
      "41323        3577368     T\n",
      "41325        3577526     F\n",
      "\n",
      "[15843 rows x 2 columns], 'DeviceType':        TransactionID DeviceType\n",
      "1            2990379    desktop\n",
      "3            2987873    desktop\n",
      "4            3019692     mobile\n",
      "5            3034488    desktop\n",
      "7            3076814    desktop\n",
      "...              ...        ...\n",
      "41319        3577351     mobile\n",
      "41320        3577354     mobile\n",
      "41322        3577364     mobile\n",
      "41323        3577368     mobile\n",
      "41325        3577526     mobile\n",
      "\n",
      "[15830 rows x 2 columns], 'DeviceInfo':        TransactionID                     DeviceInfo\n",
      "1            2990379                        Windows\n",
      "3            2987873                        Windows\n",
      "4            3019692                     iOS Device\n",
      "5            3034488                          MacOS\n",
      "7            3076814                          MacOS\n",
      "...              ...                            ...\n",
      "41319        3577351          SM-G610F Build/NRD90M\n",
      "41320        3577354          SM-G610F Build/NRD90M\n",
      "41322        3577364  SAMSUNG SM-J700M Build/MMB29K\n",
      "41323        3577368                     iOS Device\n",
      "41325        3577526            A574BL Build/NMF26F\n",
      "\n",
      "[12537 rows x 2 columns]}\n"
     ]
    }
   ],
   "source": [
    "edges = {}\n",
    "for etype in edge_types:\n",
    "    edgelist = full_identity_df[['TransactionID', etype]].dropna()\n",
    "    edgelist.to_csv('data/relation_{}_edgelist.csv'.format(etype), index=False, header=True)\n",
    "    edges[etype] = edgelist\n",
    "\n",
    "print(edges)"
   ]
  },
  {
   "cell_type": "markdown",
   "metadata": {},
   "source": [
    "Let's re-check the edges we defined."
   ]
  },
  {
   "cell_type": "code",
   "execution_count": 24,
   "metadata": {},
   "outputs": [],
   "source": [
    "import glob\n",
    "\n",
    "file_list = glob.glob('./data/*edgelist.csv')\n",
    "\n",
    "edges = \",\".join(map(lambda x: x.split(\"/\")[-1], [file for file in file_list if \"relation\" in file]))\n",
    "\n",
    "edges_full = ''\n",
    "for etype in edge_types:\n",
    "    edges_full += ',data/relation_{}_edgelist.csv'.format(etype)\n"
   ]
  },
  {
   "cell_type": "code",
   "execution_count": 25,
   "metadata": {},
   "outputs": [
    {
     "data": {
      "text/plain": [
       "'relation_TransactionID_edgelist.csv,relation_R_emaildomain_edgelist.csv,relation_P_emaildomain_edgelist.csv,relation_ProductCD_edgelist.csv,relation_id_38_edgelist.csv,relation_id_37_edgelist.csv,relation_id_36_edgelist.csv,relation_id_35_edgelist.csv,relation_id_34_edgelist.csv,relation_id_33_edgelist.csv,relation_id_32_edgelist.csv,relation_id_31_edgelist.csv,relation_id_30_edgelist.csv,relation_id_29_edgelist.csv,relation_id_28_edgelist.csv,relation_id_27_edgelist.csv,relation_id_26_edgelist.csv,relation_id_25_edgelist.csv,relation_id_24_edgelist.csv,relation_id_23_edgelist.csv,relation_id_22_edgelist.csv,relation_id_21_edgelist.csv,relation_id_20_edgelist.csv,relation_id_19_edgelist.csv,relation_id_18_edgelist.csv,relation_id_17_edgelist.csv,relation_id_16_edgelist.csv,relation_id_15_edgelist.csv,relation_id_14_edgelist.csv,relation_id_13_edgelist.csv,relation_id_12_edgelist.csv,relation_id_11_edgelist.csv,relation_id_10_edgelist.csv,relation_id_09_edgelist.csv,relation_id_08_edgelist.csv,relation_id_07_edgelist.csv,relation_id_06_edgelist.csv,relation_id_05_edgelist.csv,relation_id_04_edgelist.csv,relation_id_03_edgelist.csv,relation_id_02_edgelist.csv,relation_id_01_edgelist.csv,relation_DeviceType_edgelist.csv,relation_DeviceInfo_edgelist.csv,relation_card6_edgelist.csv,relation_card5_edgelist.csv,relation_card4_edgelist.csv,relation_card3_edgelist.csv,relation_card2_edgelist.csv,relation_card1_edgelist.csv,relation_addr2_edgelist.csv,relation_addr1_edgelist.csv'"
      ]
     },
     "execution_count": 25,
     "metadata": {},
     "output_type": "execute_result"
    }
   ],
   "source": [
    "edges"
   ]
  },
  {
   "cell_type": "markdown",
   "metadata": {},
   "source": [
    "# TRAINING MODEL"
   ]
  },
  {
   "cell_type": "code",
   "execution_count": 1,
   "metadata": {},
   "outputs": [
    {
     "name": "stdout",
     "output_type": "stream",
     "text": [
      "DLG version: 1.0.1\n"
     ]
    }
   ],
   "source": [
    "import os\n",
    "import sys\n",
    "import glob\n",
    "\n",
    "os.environ['DGLBACKEND'] = 'pytorch'\n",
    "\n",
    "import torch as th\n",
    "import dgl\n",
    "import numpy as np\n",
    "\n",
    "from gnn.estimator_fns import *\n",
    "from gnn.graph_utils import *\n",
    "from gnn.data import *\n",
    "from gnn.utils import *\n",
    "from gnn.pytorch_model import *\n",
    "from train import *"
   ]
  },
  {
   "cell_type": "code",
   "execution_count": 2,
   "metadata": {},
   "outputs": [],
   "source": [
    "file_list = glob.glob('./data/*edgelist.csv')\n",
    "\n",
    "edges = \",\".join(map(lambda x: x.split(\"/\")[-1], [file for file in file_list if \"relation\" in file]))"
   ]
  },
  {
   "cell_type": "markdown",
   "metadata": {},
   "source": [
    "##### GENERATE GRAPH"
   ]
  },
  {
   "cell_type": "code",
   "execution_count": 3,
   "metadata": {},
   "outputs": [
    {
     "name": "stdout",
     "output_type": "stream",
     "text": [
      "numpy version:1.24.2 PyTorch version:1.13.1+cu117 DGL version:1.0.1\n",
      "Namespace(training_dir='./data', model_dir='./model/2023_05_25_14_22_11', output_dir='./output', nodes='features.csv', target_ntype='TransactionID', edges='relation*', labels='tags.csv', new_accounts='test.csv', compute_metrics=True, threshold=0, num_gpus=0, optimizer='adam', lr=0.01, n_epochs=200, n_hidden=16, n_layers=2, weight_decay=0.0001, dropout=0.2, embedding_size=360, n_heads=8, alpha=0.2)\n"
     ]
    }
   ],
   "source": [
    "print('numpy version:{} PyTorch version:{} DGL version:{}'.format(np.__version__,\n",
    "                                                                    th.__version__,\n",
    "                                                                    dgl.__version__))\n",
    "\n",
    "args = parse_args()\n",
    "print(args)"
   ]
  },
  {
   "cell_type": "code",
   "execution_count": 4,
   "metadata": {},
   "outputs": [
    {
     "name": "stdout",
     "output_type": "stream",
     "text": [
      "Getting relation graphs from the following edge lists : ['relation_TransactionID_edgelist.csv', 'relation_R_emaildomain_edgelist.csv', 'relation_P_emaildomain_edgelist.csv', 'relation_ProductCD_edgelist.csv', 'relation_id_38_edgelist.csv', 'relation_id_37_edgelist.csv', 'relation_id_36_edgelist.csv', 'relation_id_35_edgelist.csv', 'relation_id_34_edgelist.csv', 'relation_id_33_edgelist.csv', 'relation_id_32_edgelist.csv', 'relation_id_31_edgelist.csv', 'relation_id_30_edgelist.csv', 'relation_id_29_edgelist.csv', 'relation_id_28_edgelist.csv', 'relation_id_27_edgelist.csv', 'relation_id_26_edgelist.csv', 'relation_id_25_edgelist.csv', 'relation_id_24_edgelist.csv', 'relation_id_23_edgelist.csv', 'relation_id_22_edgelist.csv', 'relation_id_21_edgelist.csv', 'relation_id_20_edgelist.csv', 'relation_id_19_edgelist.csv', 'relation_id_18_edgelist.csv', 'relation_id_17_edgelist.csv', 'relation_id_16_edgelist.csv', 'relation_id_15_edgelist.csv', 'relation_id_14_edgelist.csv', 'relation_id_13_edgelist.csv', 'relation_id_12_edgelist.csv', 'relation_id_11_edgelist.csv', 'relation_id_10_edgelist.csv', 'relation_id_09_edgelist.csv', 'relation_id_08_edgelist.csv', 'relation_id_07_edgelist.csv', 'relation_id_06_edgelist.csv', 'relation_id_05_edgelist.csv', 'relation_id_04_edgelist.csv', 'relation_id_03_edgelist.csv', 'relation_id_02_edgelist.csv', 'relation_id_01_edgelist.csv', 'relation_DeviceType_edgelist.csv', 'relation_DeviceInfo_edgelist.csv', 'relation_card6_edgelist.csv', 'relation_card5_edgelist.csv', 'relation_card4_edgelist.csv', 'relation_card3_edgelist.csv', 'relation_card2_edgelist.csv', 'relation_card1_edgelist.csv', 'relation_addr2_edgelist.csv', 'relation_addr1_edgelist.csv'] \n",
      "Will add self loop for target later......\n",
      "Read edges for target<R_emaildomain> from edgelist: ./data/relation_R_emaildomain_edgelist.csv\n",
      "Read edges for target<P_emaildomain> from edgelist: ./data/relation_P_emaildomain_edgelist.csv\n",
      "Read edges for target<ProductCD> from edgelist: ./data/relation_ProductCD_edgelist.csv\n",
      "Read edges for target<id_38> from edgelist: ./data/relation_id_38_edgelist.csv\n",
      "Read edges for target<id_37> from edgelist: ./data/relation_id_37_edgelist.csv\n",
      "Read edges for target<id_36> from edgelist: ./data/relation_id_36_edgelist.csv\n",
      "Read edges for target<id_35> from edgelist: ./data/relation_id_35_edgelist.csv\n",
      "Read edges for target<id_34> from edgelist: ./data/relation_id_34_edgelist.csv\n",
      "Read edges for target<id_33> from edgelist: ./data/relation_id_33_edgelist.csv\n",
      "Read edges for target<id_32> from edgelist: ./data/relation_id_32_edgelist.csv\n",
      "Read edges for target<id_31> from edgelist: ./data/relation_id_31_edgelist.csv\n",
      "Read edges for target<id_30> from edgelist: ./data/relation_id_30_edgelist.csv\n",
      "Read edges for target<id_29> from edgelist: ./data/relation_id_29_edgelist.csv\n",
      "Read edges for target<id_28> from edgelist: ./data/relation_id_28_edgelist.csv\n",
      "Read edges for target<id_27> from edgelist: ./data/relation_id_27_edgelist.csv\n",
      "Read edges for target<id_26> from edgelist: ./data/relation_id_26_edgelist.csv\n",
      "Read edges for target<id_25> from edgelist: ./data/relation_id_25_edgelist.csv\n",
      "Read edges for target<id_24> from edgelist: ./data/relation_id_24_edgelist.csv\n",
      "Read edges for target<id_23> from edgelist: ./data/relation_id_23_edgelist.csv\n",
      "Read edges for target<id_22> from edgelist: ./data/relation_id_22_edgelist.csv\n",
      "Read edges for target<id_21> from edgelist: ./data/relation_id_21_edgelist.csv\n",
      "Read edges for target<id_20> from edgelist: ./data/relation_id_20_edgelist.csv\n",
      "Read edges for target<id_19> from edgelist: ./data/relation_id_19_edgelist.csv\n",
      "Read edges for target<id_18> from edgelist: ./data/relation_id_18_edgelist.csv\n",
      "Read edges for target<id_17> from edgelist: ./data/relation_id_17_edgelist.csv\n",
      "Read edges for target<id_16> from edgelist: ./data/relation_id_16_edgelist.csv\n",
      "Read edges for target<id_15> from edgelist: ./data/relation_id_15_edgelist.csv\n",
      "Read edges for target<id_14> from edgelist: ./data/relation_id_14_edgelist.csv\n",
      "Read edges for target<id_13> from edgelist: ./data/relation_id_13_edgelist.csv\n",
      "Read edges for target<id_12> from edgelist: ./data/relation_id_12_edgelist.csv\n",
      "Read edges for target<id_11> from edgelist: ./data/relation_id_11_edgelist.csv\n",
      "Read edges for target<id_10> from edgelist: ./data/relation_id_10_edgelist.csv\n",
      "Read edges for target<id_09> from edgelist: ./data/relation_id_09_edgelist.csv\n",
      "Read edges for target<id_08> from edgelist: ./data/relation_id_08_edgelist.csv\n",
      "Read edges for target<id_07> from edgelist: ./data/relation_id_07_edgelist.csv\n",
      "Read edges for target<id_06> from edgelist: ./data/relation_id_06_edgelist.csv\n",
      "Read edges for target<id_05> from edgelist: ./data/relation_id_05_edgelist.csv\n",
      "Read edges for target<id_04> from edgelist: ./data/relation_id_04_edgelist.csv\n",
      "Read edges for target<id_03> from edgelist: ./data/relation_id_03_edgelist.csv\n",
      "Read edges for target<id_02> from edgelist: ./data/relation_id_02_edgelist.csv\n",
      "Read edges for target<id_01> from edgelist: ./data/relation_id_01_edgelist.csv\n",
      "Read edges for target<DeviceType> from edgelist: ./data/relation_DeviceType_edgelist.csv\n",
      "Read edges for target<DeviceInfo> from edgelist: ./data/relation_DeviceInfo_edgelist.csv\n",
      "Read edges for target<card6> from edgelist: ./data/relation_card6_edgelist.csv\n",
      "Read edges for target<card5> from edgelist: ./data/relation_card5_edgelist.csv\n",
      "Read edges for target<card4> from edgelist: ./data/relation_card4_edgelist.csv\n",
      "Read edges for target<card3> from edgelist: ./data/relation_card3_edgelist.csv\n",
      "Read edges for target<card2> from edgelist: ./data/relation_card2_edgelist.csv\n",
      "Read edges for target<card1> from edgelist: ./data/relation_card1_edgelist.csv\n",
      "Read edges for target<addr2> from edgelist: ./data/relation_addr2_edgelist.csv\n",
      "Read edges for target<addr1> from edgelist: ./data/relation_addr1_edgelist.csv\n",
      "Read in features for target nodes\n",
      "Constructed heterograph with the following metagraph structure: Node types ['DeviceInfo', 'DeviceType', 'P_emaildomain', 'ProductCD', 'R_emaildomain', 'addr1', 'addr2', 'card1', 'card2', 'card3', 'card4', 'card5', 'card6', 'id_01', 'id_02', 'id_03', 'id_04', 'id_05', 'id_06', 'id_07', 'id_08', 'id_09', 'id_10', 'id_11', 'id_12', 'id_13', 'id_14', 'id_15', 'id_16', 'id_17', 'id_18', 'id_19', 'id_20', 'id_21', 'id_22', 'id_23', 'id_24', 'id_25', 'id_26', 'id_27', 'id_28', 'id_29', 'id_30', 'id_31', 'id_32', 'id_33', 'id_34', 'id_35', 'id_36', 'id_37', 'id_38', 'target'], Edge types[('DeviceInfo', 'DeviceInfo<>target', 'target'), ('DeviceType', 'DeviceType<>target', 'target'), ('P_emaildomain', 'P_emaildomain<>target', 'target'), ('ProductCD', 'ProductCD<>target', 'target'), ('R_emaildomain', 'R_emaildomain<>target', 'target'), ('addr1', 'addr1<>target', 'target'), ('addr2', 'addr2<>target', 'target'), ('card1', 'card1<>target', 'target'), ('card2', 'card2<>target', 'target'), ('card3', 'card3<>target', 'target'), ('card4', 'card4<>target', 'target'), ('card5', 'card5<>target', 'target'), ('card6', 'card6<>target', 'target'), ('id_01', 'id_01<>target', 'target'), ('id_02', 'id_02<>target', 'target'), ('id_03', 'id_03<>target', 'target'), ('id_04', 'id_04<>target', 'target'), ('id_05', 'id_05<>target', 'target'), ('id_06', 'id_06<>target', 'target'), ('id_07', 'id_07<>target', 'target'), ('id_08', 'id_08<>target', 'target'), ('id_09', 'id_09<>target', 'target'), ('id_10', 'id_10<>target', 'target'), ('id_11', 'id_11<>target', 'target'), ('id_12', 'id_12<>target', 'target'), ('id_13', 'id_13<>target', 'target'), ('id_14', 'id_14<>target', 'target'), ('id_15', 'id_15<>target', 'target'), ('id_16', 'id_16<>target', 'target'), ('id_17', 'id_17<>target', 'target'), ('id_18', 'id_18<>target', 'target'), ('id_19', 'id_19<>target', 'target'), ('id_20', 'id_20<>target', 'target'), ('id_21', 'id_21<>target', 'target'), ('id_22', 'id_22<>target', 'target'), ('id_23', 'id_23<>target', 'target'), ('id_24', 'id_24<>target', 'target'), ('id_25', 'id_25<>target', 'target'), ('id_26', 'id_26<>target', 'target'), ('id_27', 'id_27<>target', 'target'), ('id_28', 'id_28<>target', 'target'), ('id_29', 'id_29<>target', 'target'), ('id_30', 'id_30<>target', 'target'), ('id_31', 'id_31<>target', 'target'), ('id_32', 'id_32<>target', 'target'), ('id_33', 'id_33<>target', 'target'), ('id_34', 'id_34<>target', 'target'), ('id_35', 'id_35<>target', 'target'), ('id_36', 'id_36<>target', 'target'), ('id_37', 'id_37<>target', 'target'), ('id_38', 'id_38<>target', 'target'), ('target', 'self_relation', 'target'), ('target', 'target<>DeviceInfo', 'DeviceInfo'), ('target', 'target<>DeviceType', 'DeviceType'), ('target', 'target<>P_emaildomain', 'P_emaildomain'), ('target', 'target<>ProductCD', 'ProductCD'), ('target', 'target<>R_emaildomain', 'R_emaildomain'), ('target', 'target<>addr1', 'addr1'), ('target', 'target<>addr2', 'addr2'), ('target', 'target<>card1', 'card1'), ('target', 'target<>card2', 'card2'), ('target', 'target<>card3', 'card3'), ('target', 'target<>card4', 'card4'), ('target', 'target<>card5', 'card5'), ('target', 'target<>card6', 'card6'), ('target', 'target<>id_01', 'id_01'), ('target', 'target<>id_02', 'id_02'), ('target', 'target<>id_03', 'id_03'), ('target', 'target<>id_04', 'id_04'), ('target', 'target<>id_05', 'id_05'), ('target', 'target<>id_06', 'id_06'), ('target', 'target<>id_07', 'id_07'), ('target', 'target<>id_08', 'id_08'), ('target', 'target<>id_09', 'id_09'), ('target', 'target<>id_10', 'id_10'), ('target', 'target<>id_11', 'id_11'), ('target', 'target<>id_12', 'id_12'), ('target', 'target<>id_13', 'id_13'), ('target', 'target<>id_14', 'id_14'), ('target', 'target<>id_15', 'id_15'), ('target', 'target<>id_16', 'id_16'), ('target', 'target<>id_17', 'id_17'), ('target', 'target<>id_18', 'id_18'), ('target', 'target<>id_19', 'id_19'), ('target', 'target<>id_20', 'id_20'), ('target', 'target<>id_21', 'id_21'), ('target', 'target<>id_22', 'id_22'), ('target', 'target<>id_23', 'id_23'), ('target', 'target<>id_24', 'id_24'), ('target', 'target<>id_25', 'id_25'), ('target', 'target<>id_26', 'id_26'), ('target', 'target<>id_27', 'id_27'), ('target', 'target<>id_28', 'id_28'), ('target', 'target<>id_29', 'id_29'), ('target', 'target<>id_30', 'id_30'), ('target', 'target<>id_31', 'id_31'), ('target', 'target<>id_32', 'id_32'), ('target', 'target<>id_33', 'id_33'), ('target', 'target<>id_34', 'id_34'), ('target', 'target<>id_35', 'id_35'), ('target', 'target<>id_36', 'id_36'), ('target', 'target<>id_37', 'id_37'), ('target', 'target<>id_38', 'id_38')]\n",
      "Number of nodes of type target : 590540\n"
     ]
    },
    {
     "name": "stdout",
     "output_type": "stream",
     "text": [
      "feature mean shape:torch.Size([390]), std shape:torch.Size([390])\n"
     ]
    }
   ],
   "source": [
    "args.edges = edges\n",
    "\n",
    "args.edges = get_edgelists('relation*', args.training_dir)\n",
    "\n",
    "g, features, target_id_to_node, id_to_node = construct_graph(args.training_dir,\n",
    "                                                                args.edges,\n",
    "                                                                args.nodes,\n",
    "                                                                args.target_ntype)\n",
    "\n",
    "mean, stdev, features = normalize(th.from_numpy(features))\n",
    "\n",
    "print('feature mean shape:{}, std shape:{}'.format(mean.shape, stdev.shape))"
   ]
  },
  {
   "cell_type": "code",
   "execution_count": 5,
   "metadata": {},
   "outputs": [
    {
     "name": "stdout",
     "output_type": "stream",
     "text": [
      "Getting labels\n",
      "Got labels\n",
      "----Data statistics------'\n",
      "            #Nodes: 613623\n",
      "            #Edges: 2205770\n",
      "            #Labeled Test samples: 118108.0\n"
     ]
    }
   ],
   "source": [
    "g.nodes['target'].data['features'] = features\n",
    "\n",
    "print(\"Getting labels\")\n",
    "n_nodes = g.number_of_nodes('target')\n",
    "\n",
    "labels, _, test_mask = get_labels(target_id_to_node,\n",
    "                                            n_nodes,\n",
    "                                            args.target_ntype,\n",
    "                                            os.path.join(args.training_dir, args.labels),\n",
    "                                            os.path.join(args.training_dir, args.new_accounts))\n",
    "print(\"Got labels\")\n",
    "\n",
    "labels = th.from_numpy(labels).float()\n",
    "test_mask = th.from_numpy(test_mask).float()\n",
    "\n",
    "n_nodes = th.sum(th.tensor([g.number_of_nodes(n_type) for n_type in g.ntypes]))\n",
    "n_edges = th.sum(th.tensor([g.number_of_edges(e_type) for e_type in g.etypes]))\n",
    "\n",
    "print(\"\"\"----Data statistics------'\n",
    "            #Nodes: {}\n",
    "            #Edges: {}\n",
    "            #Labeled Test samples: {}\"\"\".format(n_nodes,\n",
    "                                                    n_edges,                                  \n",
    "                                                    test_mask.sum()))"
   ]
  },
  {
   "cell_type": "markdown",
   "metadata": {},
   "source": [
    "##### TRAINING"
   ]
  },
  {
   "cell_type": "code",
   "execution_count": 6,
   "metadata": {},
   "outputs": [],
   "source": [
    "if args.num_gpus:\n",
    "    cuda = True\n",
    "    device = th.device('cuda:0')\n",
    "else:\n",
    "    cuda = False\n",
    "    device = th.device('cpu')"
   ]
  },
  {
   "cell_type": "code",
   "execution_count": null,
   "metadata": {},
   "outputs": [
    {
     "name": "stdout",
     "output_type": "stream",
     "text": [
      "Initializing Model\n",
      "Initialized Model\n",
      "Starting Model training\n"
     ]
    },
    {
     "name": "stderr",
     "output_type": "stream",
     "text": [
      "/home/mtech/2021/n.kalyani/.conda/envs/kalyani/lib/python3.10/site-packages/torch/autograd/__init__.py:197: UserWarning: CUDA initialization: The NVIDIA driver on your system is too old (found version 10020). Please update your GPU driver by downloading and installing a new version from the URL: http://www.nvidia.com/Download/index.aspx Alternatively, go to: https://pytorch.org to install a PyTorch version that has been compiled with your version of the CUDA driver. (Triggered internally at ../c10/cuda/CUDAFunctions.cpp:109.)\n",
      "  Variable._execution_engine.run_backward(  # Calls into the C++ engine to run the backward pass\n"
     ]
    },
    {
     "name": "stdout",
     "output_type": "stream",
     "text": [
      "Epoch 00000, Time(s) 57.0797, Loss 0.7004, F1 0.1480 \n",
      "Epoch 00001, Time(s) 47.2486, Loss 0.9066, F1 0.6261 \n",
      "Epoch 00002, Time(s) 37.6997, Loss 0.5660, F1 0.6252 \n",
      "Epoch 00003, Time(s) 33.1704, Loss 0.3016, F1 0.0895 \n",
      "Epoch 00004, Time(s) 37.3573, Loss 0.3149, F1 0.3877 \n",
      "Epoch 00005, Time(s) 35.1626, Loss 0.1904, F1 0.6549 \n",
      "Epoch 00006, Time(s) 33.4137, Loss 0.0953, F1 0.6954 \n",
      "Epoch 00007, Time(s) 31.8553, Loss 0.0831, F1 0.6636 \n",
      "Epoch 00008, Time(s) 53.8755, Loss 0.0825, F1 0.6415 \n",
      "Epoch 00009, Time(s) 80.1059, Loss 0.0772, F1 0.6283 \n",
      "Epoch 00010, Time(s) 132.2468, Loss 0.0639, F1 0.5910 \n"
     ]
    }
   ],
   "source": [
    "print(\"Initializing Model\")\n",
    "in_feats = features.shape[1]\n",
    "n_classes = 2\n",
    "\n",
    "ntype_dict = {n_type: g.number_of_nodes(n_type) for n_type in g.ntypes}\n",
    "\n",
    "model = get_model(ntype_dict, g.etypes, vars(args), in_feats, n_classes, device)\n",
    "print(\"Initialized Model\")\n",
    "\n",
    "features = features.to(device)\n",
    "\n",
    "labels = labels.long().to(device)\n",
    "test_mask = test_mask.to(device)\n",
    "# g = g.to(device)\n",
    "\n",
    "loss = th.nn.CrossEntropyLoss()\n",
    "\n",
    "# print(model)\n",
    "optim = th.optim.Adam(model.parameters(), lr=args.lr, weight_decay=args.weight_decay)\n",
    "\n",
    "print(\"Starting Model training\")\n",
    "\n",
    "initial_record()\n",
    "\n",
    "model, class_preds, pred_proba = train_fg(model, optim, loss, features, labels, g, g,\n",
    "                                            test_mask, device, 200,\n",
    "                                            args.threshold,  args.compute_metrics)\n",
    "print(\"Finished Model training\")\n",
    "\n",
    "print(\"Saving model\") \n",
    "\n",
    "if not os.path.exists(args.model_dir):\n",
    "    os.makedirs(args.model_dir)\n",
    "\n",
    "save_model(g, model, args.model_dir, id_to_node, mean, stdev)\n",
    "print(\"Model and metadata saved\")"
   ]
  },
  {
   "cell_type": "code",
   "execution_count": null,
   "metadata": {},
   "outputs": [],
   "source": []
  },
  {
   "cell_type": "code",
   "execution_count": null,
   "metadata": {},
   "outputs": [],
   "source": []
  },
  {
   "cell_type": "code",
   "execution_count": null,
   "metadata": {},
   "outputs": [],
   "source": []
  },
  {
   "cell_type": "code",
   "execution_count": null,
   "metadata": {},
   "outputs": [],
   "source": []
  },
  {
   "cell_type": "code",
   "execution_count": null,
   "metadata": {},
   "outputs": [],
   "source": []
  },
  {
   "cell_type": "code",
   "execution_count": null,
   "metadata": {},
   "outputs": [],
   "source": []
  },
  {
   "cell_type": "code",
   "execution_count": null,
   "metadata": {},
   "outputs": [],
   "source": []
  }
 ],
 "metadata": {
  "kernelspec": {
   "display_name": "Python 3 (ipykernel)",
   "language": "python",
   "name": "python3"
  },
  "language_info": {
   "codemirror_mode": {
    "name": "ipython",
    "version": 3
   },
   "file_extension": ".py",
   "mimetype": "text/x-python",
   "name": "python",
   "nbconvert_exporter": "python",
   "pygments_lexer": "ipython3",
   "version": "3.10.9"
  },
  "metadata": {
   "interpreter": {
    "hash": "31f2aee4e71d21fbe5cf8b01ff0e069b9275f58929596ceb00d14d90e3e16cd6"
   }
  }
 },
 "nbformat": 4,
 "nbformat_minor": 2
}
